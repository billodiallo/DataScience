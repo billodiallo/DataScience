{
 "cells": [
  {
   "cell_type": "markdown",
   "metadata": {
    "colab_type": "text",
    "id": "R5k5vf2c0UEC"
   },
   "source": [
    "**1. Problema de negócio**\n",
    "\n",
    "Um e-commerce \"X\" necessita aumentar suas vendas, em prol da sua sustentabilidade. Sabendo o que ofertar e no momento certo para seus cliente, as chances de venda crescem. Dentro deste contexto, como é possível otimizar as vendas ofertando produtos que tenha forte relação com os itens que o cliente navegou?\n",
    "\n",
    "**Atividades**:\n",
    "\n",
    "1) Apresentar os principais indicadores:\n",
    "\n",
    "a) total de navegações\n",
    "b) número de vendas\n",
    "c) faturamento no período\n",
    "d) ticket médio\n",
    "e) total de usuários únicos\n",
    "f) taxa de conversão por usuário único\n",
    "\n",
    "2) Construir um algoritmo para responder a seguinte questão: qual produto deve ser recomendado para um usuário que navegou pelo produto 76700399 ?\n",
    "\n",
    "**Conjunto de dados**: captura de clickstream de um e-commerce fictício.\n",
    "\n",
    "                                        Descrição dos atributos do conjunto de dados:\n",
    "\n",
    "| Atributo | Descrição |\n",
    "| --- | --- |\n",
    "| user_id | Identificador único do usuário |\n",
    "| action | Ação do usuário com o produto |\n",
    "| id | Identificador único do produto |\n",
    "| variant | Tamanho ou cor do produto |\n",
    "| category | Categoria do produto |\n",
    "| price | Preço do produto |\n",
    "| timestamp| Data e horário da navegação |"
   ]
  },
  {
   "cell_type": "markdown",
   "metadata": {
    "colab_type": "text",
    "id": "-TfZXgsY0a4h"
   },
   "source": [
    "**2. Importação de Bibliotecas**"
   ]
  },
  {
   "cell_type": "code",
   "execution_count": 1,
   "metadata": {
    "colab": {},
    "colab_type": "code",
    "id": "1oE974Ea0cvd"
   },
   "outputs": [],
   "source": [
    "from io import BytesIO\n",
    "from zipfile import ZipFile\n",
    "import urllib.request\n",
    "import glob\n",
    "\n",
    "from pandas import read_csv, DataFrame, concat, get_dummies #, to_datetime\n",
    "import numpy as np\n",
    "import matplotlib.pyplot as plt\n",
    "import seaborn as sns\n",
    "from scipy import stats\n",
    "\n",
    "from mlxtend.frequent_patterns import apriori\n",
    "from mlxtend.frequent_patterns import association_rules"
   ]
  },
  {
   "cell_type": "markdown",
   "metadata": {
    "colab_type": "text",
    "id": "52oq8Har0jP0"
   },
   "source": [
    "**3. Aquisição dos Dados**"
   ]
  },
  {
   "cell_type": "code",
   "execution_count": 2,
   "metadata": {},
   "outputs": [],
   "source": [
    "url_zip = \"https://xxxxxxxxxxx.xxxxxxxx.xxxxxx.com/public/clickstream.zip\"\n",
    "csv_file = \"clickstream.csv\"\n",
    "\n",
    "# se o arquivo estiver local na máquina, o consome\n",
    "if csv_file in glob.glob(csv_file):\n",
    "    # considera o arquivo do repositório local\n",
    "    sourcefile = csv_file\n",
    "    # importando os dados para um dataframe Pandas\n",
    "    df_raw = read_csv(sourcefile, sep=',')\n",
    "# se o arquivo não estiver local na máquina, busca do repositório externo em nuvem e o consome\n",
    "else:\n",
    "    sourcefile = url_zip\n",
    "    # importando os dados para um dataframe Pandas, considerando ser um arquivo .ZIP\n",
    "    df_raw = read_csv(sourcefile, compression='zip', header=0, sep=',')"
   ]
  },
  {
   "cell_type": "code",
   "execution_count": 3,
   "metadata": {},
   "outputs": [
    {
     "data": {
      "text/html": [
       "<div>\n",
       "<style scoped>\n",
       "    .dataframe tbody tr th:only-of-type {\n",
       "        vertical-align: middle;\n",
       "    }\n",
       "\n",
       "    .dataframe tbody tr th {\n",
       "        vertical-align: top;\n",
       "    }\n",
       "\n",
       "    .dataframe thead th {\n",
       "        text-align: right;\n",
       "    }\n",
       "</style>\n",
       "<table border=\"1\" class=\"dataframe\">\n",
       "  <thead>\n",
       "    <tr style=\"text-align: right;\">\n",
       "      <th></th>\n",
       "      <th>user_id</th>\n",
       "      <th>action</th>\n",
       "      <th>id</th>\n",
       "      <th>variant</th>\n",
       "      <th>category</th>\n",
       "      <th>price</th>\n",
       "      <th>timestamp</th>\n",
       "    </tr>\n",
       "  </thead>\n",
       "  <tbody>\n",
       "    <tr>\n",
       "      <th>0</th>\n",
       "      <td>912201561074350768</td>\n",
       "      <td>detail</td>\n",
       "      <td>72104958</td>\n",
       "      <td>NaN</td>\n",
       "      <td>Calçados</td>\n",
       "      <td>199.99</td>\n",
       "      <td>2019-06-21T00:00:02.102Z</td>\n",
       "    </tr>\n",
       "    <tr>\n",
       "      <th>1</th>\n",
       "      <td>309931560815276971</td>\n",
       "      <td>detail</td>\n",
       "      <td>70102327</td>\n",
       "      <td>NaN</td>\n",
       "      <td>Calçados</td>\n",
       "      <td>99.99</td>\n",
       "      <td>2019-06-21T00:00:04.700Z</td>\n",
       "    </tr>\n",
       "    <tr>\n",
       "      <th>2</th>\n",
       "      <td>553421545850145995</td>\n",
       "      <td>detail</td>\n",
       "      <td>61003149</td>\n",
       "      <td>NaN</td>\n",
       "      <td>Calçados</td>\n",
       "      <td>79.99</td>\n",
       "      <td>2019-06-21T00:00:05.855Z</td>\n",
       "    </tr>\n",
       "    <tr>\n",
       "      <th>3</th>\n",
       "      <td>389701561075193910</td>\n",
       "      <td>detail</td>\n",
       "      <td>70210195</td>\n",
       "      <td>NaN</td>\n",
       "      <td>Calçados</td>\n",
       "      <td>209.99</td>\n",
       "      <td>2019-06-21T00:00:06.853Z</td>\n",
       "    </tr>\n",
       "    <tr>\n",
       "      <th>4</th>\n",
       "      <td>865841560095238910</td>\n",
       "      <td>detail</td>\n",
       "      <td>68300190</td>\n",
       "      <td>NaN</td>\n",
       "      <td>Roupas</td>\n",
       "      <td>169.99</td>\n",
       "      <td>2019-06-21T00:00:06.832Z</td>\n",
       "    </tr>\n",
       "  </tbody>\n",
       "</table>\n",
       "</div>"
      ],
      "text/plain": [
       "              user_id  action        id variant  category   price  \\\n",
       "0  912201561074350768  detail  72104958     NaN  Calçados  199.99   \n",
       "1  309931560815276971  detail  70102327     NaN  Calçados   99.99   \n",
       "2  553421545850145995  detail  61003149     NaN  Calçados   79.99   \n",
       "3  389701561075193910  detail  70210195     NaN  Calçados  209.99   \n",
       "4  865841560095238910  detail  68300190     NaN    Roupas  169.99   \n",
       "\n",
       "                  timestamp  \n",
       "0  2019-06-21T00:00:02.102Z  \n",
       "1  2019-06-21T00:00:04.700Z  \n",
       "2  2019-06-21T00:00:05.855Z  \n",
       "3  2019-06-21T00:00:06.853Z  \n",
       "4  2019-06-21T00:00:06.832Z  "
      ]
     },
     "execution_count": 3,
     "metadata": {},
     "output_type": "execute_result"
    }
   ],
   "source": [
    "df_raw.head(5)"
   ]
  },
  {
   "cell_type": "markdown",
   "metadata": {
    "colab_type": "text",
    "id": "vcOYZ32u1cCy"
   },
   "source": [
    "**4. Definições do Dataset**"
   ]
  },
  {
   "cell_type": "code",
   "execution_count": 4,
   "metadata": {
    "colab": {
     "base_uri": "https://localhost:8080/",
     "height": 255
    },
    "colab_type": "code",
    "id": "xhTQJlkb1eKv",
    "outputId": "17eab9a6-645a-47b7-9b53-5a5271dec818"
   },
   "outputs": [
    {
     "name": "stdout",
     "output_type": "stream",
     "text": [
      "--->>> Qtd. observações (linhas): 617886\n",
      "--->>> Qtd. variáveis (colunas): 7\n",
      "--->>> Definição da Matriz: (617886, 7) \n",
      "\n",
      "--->>> Tipagem das colunas do dataset:\n",
      "user_id        int64\n",
      "action        object\n",
      "id            object\n",
      "variant       object\n",
      "category      object\n",
      "price        float64\n",
      "timestamp     object\n",
      "dtype: object \n",
      "\n"
     ]
    }
   ],
   "source": [
    "print('--->>> Qtd. observações (linhas):', df_raw.shape[0])\n",
    "print('--->>> Qtd. variáveis (colunas):', df_raw.shape[1])\n",
    "print('--->>> Definição da Matriz:', df_raw.shape, '\\n')\n",
    "\n",
    "print(\"--->>> Tipagem das colunas do dataset:\")\n",
    "print(df_raw.dtypes,'\\n')"
   ]
  },
  {
   "cell_type": "code",
   "execution_count": 5,
   "metadata": {
    "colab": {},
    "colab_type": "code",
    "id": "S5wqKLJC5Ino"
   },
   "outputs": [],
   "source": [
    "# cópia de segurança dos dados RAW. df_raw é a fonte original, e não deve ser alterada a sua integridade.\n",
    "\n",
    "df_adjust_01 = df_raw"
   ]
  },
  {
   "cell_type": "code",
   "execution_count": 6,
   "metadata": {
    "colab": {},
    "colab_type": "code",
    "id": "m_d6Hv86MB84"
   },
   "outputs": [],
   "source": [
    "# Ajuste da tipagem do user_id para string\n",
    "\n",
    "df_adjust_01[\"user_id\"] = df_adjust_01[\"user_id\"].astype('str')"
   ]
  },
  {
   "cell_type": "markdown",
   "metadata": {
    "colab_type": "text",
    "id": "knJmVii6ln6w"
   },
   "source": [
    "**5. Análise Exploratória**"
   ]
  },
  {
   "cell_type": "markdown",
   "metadata": {
    "colab_type": "text",
    "id": "SRoP_v0VloJc"
   },
   "source": [
    "- **5.1. Medidas de Posição - Sumarização dos Dados**"
   ]
  },
  {
   "cell_type": "code",
   "execution_count": 7,
   "metadata": {
    "colab": {
     "base_uri": "https://localhost:8080/",
     "height": 297
    },
    "colab_type": "code",
    "id": "iVA1zUceltI4",
    "outputId": "faef9a5e-c696-482a-be17-0fa704a34623"
   },
   "outputs": [
    {
     "data": {
      "text/html": [
       "<div>\n",
       "<style scoped>\n",
       "    .dataframe tbody tr th:only-of-type {\n",
       "        vertical-align: middle;\n",
       "    }\n",
       "\n",
       "    .dataframe tbody tr th {\n",
       "        vertical-align: top;\n",
       "    }\n",
       "\n",
       "    .dataframe thead th {\n",
       "        text-align: right;\n",
       "    }\n",
       "</style>\n",
       "<table border=\"1\" class=\"dataframe\">\n",
       "  <thead>\n",
       "    <tr style=\"text-align: right;\">\n",
       "      <th></th>\n",
       "      <th>price</th>\n",
       "    </tr>\n",
       "  </thead>\n",
       "  <tbody>\n",
       "    <tr>\n",
       "      <th>count</th>\n",
       "      <td>613593.000000</td>\n",
       "    </tr>\n",
       "    <tr>\n",
       "      <th>mean</th>\n",
       "      <td>107.276364</td>\n",
       "    </tr>\n",
       "    <tr>\n",
       "      <th>std</th>\n",
       "      <td>60.771009</td>\n",
       "    </tr>\n",
       "    <tr>\n",
       "      <th>min</th>\n",
       "      <td>1.299000</td>\n",
       "    </tr>\n",
       "    <tr>\n",
       "      <th>25%</th>\n",
       "      <td>69.990000</td>\n",
       "    </tr>\n",
       "    <tr>\n",
       "      <th>50%</th>\n",
       "      <td>99.990000</td>\n",
       "    </tr>\n",
       "    <tr>\n",
       "      <th>75%</th>\n",
       "      <td>149.990000</td>\n",
       "    </tr>\n",
       "    <tr>\n",
       "      <th>max</th>\n",
       "      <td>1299.990000</td>\n",
       "    </tr>\n",
       "  </tbody>\n",
       "</table>\n",
       "</div>"
      ],
      "text/plain": [
       "               price\n",
       "count  613593.000000\n",
       "mean      107.276364\n",
       "std        60.771009\n",
       "min         1.299000\n",
       "25%        69.990000\n",
       "50%        99.990000\n",
       "75%       149.990000\n",
       "max      1299.990000"
      ]
     },
     "execution_count": 7,
     "metadata": {},
     "output_type": "execute_result"
    }
   ],
   "source": [
    "df_adjust_01.describe()"
   ]
  },
  {
   "cell_type": "markdown",
   "metadata": {
    "colab_type": "text",
    "id": "AHLRll0Dkoma"
   },
   "source": [
    "- - **Valores Únicos por Coluna do DataFrame**"
   ]
  },
  {
   "cell_type": "code",
   "execution_count": 8,
   "metadata": {
    "colab": {
     "base_uri": "https://localhost:8080/",
     "height": 408
    },
    "colab_type": "code",
    "id": "Tqz8xcydkp4S",
    "outputId": "edfb6449-d8f9-4ec8-fb81-20b343ae4940"
   },
   "outputs": [
    {
     "name": "stdout",
     "output_type": "stream",
     "text": [
      "Valores distintos da coluna: action\n",
      "['detail' 'cart' 'checkout' 'purchase']\n",
      "\n",
      "\n",
      "Valores distintos da coluna: variant\n",
      "[nan '97' '38' '92' '96' '36' '33' '95' '41' '34' '35' '44' '40' '42' '37'\n",
      " '39' '17' '99' '20' '18' '32' '27' '43' '29' '94' '46' 'or' '24' '26'\n",
      " 'ck' '21' '25' '31' '19' '28' '23' '30' 'og' 'to' '02' '48' '88' '87' 'g'\n",
      " 'ua' 'l' '-c' 'pi' '22' 'nh' '90' '93' '03' '-e' '89' 'er' '52' 'on' '-f'\n",
      " 'y' '16' '05' '91' 'ev' '04' 'zu' '12' '15' 'lo' 'al' '45' '14' '13' '06'\n",
      " '50' '98']\n",
      "\n",
      "\n",
      "Valores distintos da coluna: category\n",
      "['Calçados' 'Roupas' 'Sapatos' 'Sandálias' 'Meias' 'Tênis'\n",
      " 'Casacos e Jaquetas' 'Botas' 'Tamancos' 'Acessórios' 'Sapatilhas'\n",
      " 'Bolsas' 'Camisas' nan 'Chinelos' 'Blusas' 'Lingeries'\n",
      " 'Calças e Calças Jeans' 'Moda Íntima' 'Vestidos' 'Bermudas e Shorts'\n",
      " 'Sapatênis' 'Macacões' 'Camisetas' 'Agasalhos e Conjuntos' 'Cuecas'\n",
      " 'Cuidados' 'Colete' 'Saias' 'Cintos' 'Carteiras' 'Mochilas' 'Chuteiras'\n",
      " 'Escolar' 'Moda Praia' 'Lingerie' 'Underwear']\n",
      "\n",
      "\n"
     ]
    }
   ],
   "source": [
    "for column in df_adjust_01.columns:\n",
    "    if column != \"user_id\" and column != \"id\" and column != \"price\" and column != \"timestamp\":\n",
    "        print(\"Valores distintos da coluna:\", column)\n",
    "        print(df_adjust_01[column].unique())\n",
    "        print(\"\\n\")"
   ]
  },
  {
   "cell_type": "markdown",
   "metadata": {
    "colab_type": "text",
    "id": "mRHDYjK9nUF2"
   },
   "source": [
    "- - **A) Quantidade Total de Navegação**"
   ]
  },
  {
   "cell_type": "code",
   "execution_count": 9,
   "metadata": {
    "colab": {
     "base_uri": "https://localhost:8080/",
     "height": 34
    },
    "colab_type": "code",
    "id": "vuj2lBl1m1L2",
    "outputId": "d3106c39-fe08-4977-cf4a-10152b03eb60"
   },
   "outputs": [
    {
     "name": "stdout",
     "output_type": "stream",
     "text": [
      "Quantidade Total de Navegação: 617886\n"
     ]
    }
   ],
   "source": [
    "qtdusers = len(df_adjust_01)\n",
    "print(\"Quantidade Total de Navegação:\", qtdusers)"
   ]
  },
  {
   "cell_type": "markdown",
   "metadata": {
    "colab_type": "text",
    "id": "vMlPs6zgnuyb"
   },
   "source": [
    "- - **B) Quantidade Total de Vendas**"
   ]
  },
  {
   "cell_type": "code",
   "execution_count": 10,
   "metadata": {
    "colab": {
     "base_uri": "https://localhost:8080/",
     "height": 34
    },
    "colab_type": "code",
    "id": "857ZBRtkhZ9I",
    "outputId": "4edebb61-f9f3-4f04-bd32-06eed4bef2fb"
   },
   "outputs": [
    {
     "name": "stdout",
     "output_type": "stream",
     "text": [
      "Quantidade Total de Vendas: 4771\n"
     ]
    }
   ],
   "source": [
    "qtdpurchase = len(df_adjust_01[df_adjust_01[\"action\"] == \"purchase\"])\n",
    "print(\"Quantidade Total de Vendas:\", qtdpurchase)"
   ]
  },
  {
   "cell_type": "markdown",
   "metadata": {
    "colab_type": "text",
    "id": "Yy_-sJvyjtWa"
   },
   "source": [
    "- - **C) Faturamento no Período**"
   ]
  },
  {
   "cell_type": "code",
   "execution_count": 11,
   "metadata": {
    "colab": {
     "base_uri": "https://localhost:8080/",
     "height": 34
    },
    "colab_type": "code",
    "id": "XhNsIy4bjtg6",
    "outputId": "9b63e74d-1ffc-4e1b-f689-be774eefc771"
   },
   "outputs": [
    {
     "name": "stdout",
     "output_type": "stream",
     "text": [
      "Faturamento no Período 65824025.77\n"
     ]
    }
   ],
   "source": [
    "qtdbilling = round(df_adjust_01[\"price\"].sum(), 2)\n",
    "print(\"Faturamento no Período\", qtdbilling)"
   ]
  },
  {
   "cell_type": "markdown",
   "metadata": {
    "colab_type": "text",
    "id": "qT8peL0dkIs1"
   },
   "source": [
    "- - **D) Ticket Médio**"
   ]
  },
  {
   "cell_type": "code",
   "execution_count": 12,
   "metadata": {
    "colab": {
     "base_uri": "https://localhost:8080/",
     "height": 34
    },
    "colab_type": "code",
    "id": "fjoz-K7GkI0t",
    "outputId": "2c8beffb-cd66-44cb-e5d1-b8692294d2f5"
   },
   "outputs": [
    {
     "name": "stdout",
     "output_type": "stream",
     "text": [
      "Ticket Médio: 13796.69\n"
     ]
    }
   ],
   "source": [
    "print(\"Ticket Médio:\", round( (qtdbilling / qtdpurchase), 2) )"
   ]
  },
  {
   "cell_type": "markdown",
   "metadata": {
    "colab_type": "text",
    "id": "FkN9l-YvkJjh"
   },
   "source": [
    "- - **E) Quantidade Total de Usuários Únicos**"
   ]
  },
  {
   "cell_type": "code",
   "execution_count": 13,
   "metadata": {
    "colab": {
     "base_uri": "https://localhost:8080/",
     "height": 34
    },
    "colab_type": "code",
    "id": "Q0yiUrjUkJ0t",
    "outputId": "93ea2175-5317-4b1f-b41f-30cd82966ca9"
   },
   "outputs": [
    {
     "name": "stdout",
     "output_type": "stream",
     "text": [
      "Quantidade Total de Usuários Únicos: 163211\n"
     ]
    }
   ],
   "source": [
    "qtdidentityusers = len(df_adjust_01[\"user_id\"].unique())\n",
    "print(\"Quantidade Total de Usuários Únicos:\", qtdidentityusers)"
   ]
  },
  {
   "cell_type": "markdown",
   "metadata": {
    "colab_type": "text",
    "id": "KFcADwa-kKXP"
   },
   "source": [
    "- - **F) Taxa de Conversão por Usuário Único**\n",
    "\n",
    "    % de visitantes distintos do e-commerce que efetuaram uma compra."
   ]
  },
  {
   "cell_type": "code",
   "execution_count": 14,
   "metadata": {
    "colab": {
     "base_uri": "https://localhost:8080/",
     "height": 34
    },
    "colab_type": "code",
    "id": "Yx52b9f5kKiC",
    "outputId": "4d10e4bd-c04d-4960-f856-bf8bc46e147d"
   },
   "outputs": [
    {
     "name": "stdout",
     "output_type": "stream",
     "text": [
      "Taxa de Conversão por Usuário Único: 2.92 %\n"
     ]
    }
   ],
   "source": [
    "conversionrate = round( ((qtdpurchase / qtdidentityusers) * 100) , 2)\n",
    "print(\"Taxa de Conversão por Usuário Único:\", conversionrate, \"%\")"
   ]
  },
  {
   "cell_type": "markdown",
   "metadata": {
    "colab_type": "text",
    "id": "OBKXfGaDfol5"
   },
   "source": [
    "**5. Modelo de Recomendação de Produtos**\n",
    "\n",
    "- **Técnica selecionada**: análise de ASSOCIAÇÃO DE MARKET BASKET ao nível de transação (\"Cliente que comprou este produto, também comprou este.\").\n",
    "\n",
    "- **Motivos que levaram à escolha da técnica para o problema em questão**\n",
    "      -> simplicidade;\n",
    "      -> conjunto de dados atual não permite o entendimento detalhado dos produtos e a sua relação com os cliente (se houver muitos atributos que especificam a característica dos itens, uma abordagem de recomendação baseada em FILTRO DE CONTEÚDO é a melhor opção);\n",
    "      -> conjunto de dados atual não permite o entendimento detalhado dos clientes e a sua relação com os itens (se houver muitos atributos que especificam a característica dos clientes associados aos itens, uma abordagem de recomendação baseada em FILTRO COLABORATIVO é a melhor opção);\n",
    "\n",
    "- **Vantagens**\n",
    "      -> força da relação entre cada um dos produtos e todos os outros produtos ofertados;\n",
    "      -> identificar pares com afinidade forte;\n",
    "      -> criar uma oferta personalizada para os clientes que tem apenas um dos produtos dos pares fortemente associados.\n",
    "\n",
    "- **Medidas p/ Mensurar a Associação**\n",
    "\n",
    "      -> Support (Suporte): frequência de cada item contido no conjunto de dados.\n",
    "      - Fórmula: 𝑆𝑢𝑝𝑝𝑜𝑟𝑡(𝑋) = (Qtd. 𝑂𝑐𝑜𝑟𝑟ê𝑛𝑐𝑖𝑎𝑠(𝑋) / 𝑇𝑜𝑡𝑎𝑙 𝑑𝑒 𝑟𝑒𝑔𝑖𝑠𝑡𝑟𝑜) X 100\n",
    "\n",
    "      -> Confidence (Confiança): probabilidade de ocorrência do item Y quando o item X aparece.\n",
    "      - Fórmula: 𝐶𝑜𝑛𝑓𝑖𝑑𝑒𝑛𝑐𝑒 𝑋 → 𝑌 = 𝑆𝑢𝑝𝑝𝑜𝑟𝑡(𝑋, 𝑌) / 𝑆𝑢𝑝𝑝𝑜𝑟𝑡(𝑋)\n",
    "\n",
    "      -> Lift: probabilidade de um item Y aparecer quando X ocorre, em relação a popularidade de Y (considerar itens > 1).\n",
    "      - Fórmula: 𝐿𝑖𝑓𝑡(𝑋 → 𝑌) = 𝐶𝑜𝑛𝑓𝑖𝑑𝑒𝑛𝑐𝑒 (𝑋 → 𝑌) / 𝑆𝑢𝑝𝑝𝑜𝑟𝑡 (𝑌)\n",
    "\n",
    "- **Algoritmo**: Apriori\n",
    "      Consegue identificar os itens que aparecem com maior frequência dentro de conjuntos de itens, considerando as possibilidades de  combinações existentes, respeitando o **suporte mínimo** definido (limiar). Se um item não for frequente, todas as suas demais combinações serão desconsideradas.\n",
    "    \n",
    "    Etapas:\n",
    "    \n",
    "    1º) Inicializa com conjuntos de itens único;\n",
    "    \n",
    "    2º) Obtêm o valor de suporte para cada conjunto de itens;\n",
    "    \n",
    "    3º) Remove os conjuntos de itens que estão abaixo do especificado para suporte mínimo;\n",
    "    \n",
    "    4º) Para os itens restantes, gera todas as configurações possíveis de conjunto de itens;\n",
    "    \n",
    "    5º) Repete as etapas de 2 a 4 até que não existam mais novos conjuntos de itens;"
   ]
  },
  {
   "cell_type": "code",
   "execution_count": 15,
   "metadata": {
    "colab": {
     "base_uri": "https://localhost:8080/",
     "height": 170
    },
    "colab_type": "code",
    "id": "gf8B153vVSy0",
    "outputId": "d06e9d2f-0141-4033-dfd4-b9e7713bc461"
   },
   "outputs": [
    {
     "name": "stderr",
     "output_type": "stream",
     "text": [
      "c:\\program files\\python37\\lib\\site-packages\\pandas\\core\\base.py:1512: SettingWithCopyWarning: \n",
      "A value is trying to be set on a copy of a slice from a DataFrame\n",
      "\n",
      "See the caveats in the documentation: http://pandas.pydata.org/pandas-docs/stable/indexing.html#indexing-view-versus-copy\n",
      "  return self._update_inplace(result)\n",
      "c:\\program files\\python37\\lib\\site-packages\\ipykernel_launcher.py:18: SettingWithCopyWarning: \n",
      "A value is trying to be set on a copy of a slice from a DataFrame\n",
      "\n",
      "See the caveats in the documentation: http://pandas.pydata.org/pandas-docs/stable/indexing.html#indexing-view-versus-copy\n"
     ]
    }
   ],
   "source": [
    "product = \"76700399\"\n",
    "\n",
    "# selecionado as colunas que irão ser trabalhadas\n",
    "df_adjust_02 = df_adjust_01[[\"user_id\", \"id\"]]\n",
    "\n",
    "# selecionando as pessoas que compraram o produto indicado\n",
    "df_adjust_03 = df_adjust_02[df_adjust_02[\"id\"] == product]\n",
    "df_adjust_03 = df_adjust_03[\"user_id\"]\n",
    "\n",
    "# remove registros duplicados\n",
    "df_adjust_03.drop_duplicates(inplace=True)\n",
    "\n",
    "# exportando id's de usuário que compraram o produto indicado\n",
    "indexes = df_adjust_03.values.tolist()\n",
    "\n",
    "# criando um dataframe com os id's de usuários que compraram o produto indicado\n",
    "df_adjust_04 = df_adjust_02[df_adjust_02[\"user_id\"].isin(indexes)]\n",
    "df_adjust_04.drop_duplicates(inplace=True)"
   ]
  },
  {
   "cell_type": "code",
   "execution_count": 16,
   "metadata": {
    "colab": {
     "base_uri": "https://localhost:8080/",
     "height": 204
    },
    "colab_type": "code",
    "id": "ODohJGdIv-sG",
    "outputId": "01bf1886-b2f4-4355-be7e-7b394d117088"
   },
   "outputs": [
    {
     "data": {
      "text/html": [
       "<div>\n",
       "<style scoped>\n",
       "    .dataframe tbody tr th:only-of-type {\n",
       "        vertical-align: middle;\n",
       "    }\n",
       "\n",
       "    .dataframe tbody tr th {\n",
       "        vertical-align: top;\n",
       "    }\n",
       "\n",
       "    .dataframe thead th {\n",
       "        text-align: right;\n",
       "    }\n",
       "</style>\n",
       "<table border=\"1\" class=\"dataframe\">\n",
       "  <thead>\n",
       "    <tr style=\"text-align: right;\">\n",
       "      <th></th>\n",
       "      <th>user_id</th>\n",
       "      <th>id</th>\n",
       "    </tr>\n",
       "  </thead>\n",
       "  <tbody>\n",
       "    <tr>\n",
       "      <th>8221</th>\n",
       "      <td>448681561080412476</td>\n",
       "      <td>76700399</td>\n",
       "    </tr>\n",
       "    <tr>\n",
       "      <th>8237</th>\n",
       "      <td>448681561080412476</td>\n",
       "      <td>7670039912</td>\n",
       "    </tr>\n",
       "    <tr>\n",
       "      <th>10580</th>\n",
       "      <td>450201561082120947</td>\n",
       "      <td>76700399</td>\n",
       "    </tr>\n",
       "    <tr>\n",
       "      <th>10601</th>\n",
       "      <td>450201561082120947</td>\n",
       "      <td>7670039912</td>\n",
       "    </tr>\n",
       "    <tr>\n",
       "      <th>17290</th>\n",
       "      <td>577241561089106675</td>\n",
       "      <td>76700399</td>\n",
       "    </tr>\n",
       "  </tbody>\n",
       "</table>\n",
       "</div>"
      ],
      "text/plain": [
       "                  user_id          id\n",
       "8221   448681561080412476    76700399\n",
       "8237   448681561080412476  7670039912\n",
       "10580  450201561082120947    76700399\n",
       "10601  450201561082120947  7670039912\n",
       "17290  577241561089106675    76700399"
      ]
     },
     "execution_count": 16,
     "metadata": {},
     "output_type": "execute_result"
    }
   ],
   "source": [
    "# exibindo a lista de navegação de cada usuário desde que este tenha qualquer ação sobre o produto indicado\n",
    "df_adjust_04.head(5)"
   ]
  },
  {
   "cell_type": "code",
   "execution_count": 17,
   "metadata": {
    "colab": {
     "base_uri": "https://localhost:8080/",
     "height": 34
    },
    "colab_type": "code",
    "id": "kh77ri7HwUeF",
    "outputId": "aa9f9358-a7e7-4b6a-8dbf-7653d4e156dc"
   },
   "outputs": [
    {
     "name": "stdout",
     "output_type": "stream",
     "text": [
      "Quantidade de registros 603\n"
     ]
    }
   ],
   "source": [
    "print(\"Quantidade de registros\", len(df_adjust_04))"
   ]
  },
  {
   "cell_type": "code",
   "execution_count": 18,
   "metadata": {
    "colab": {
     "base_uri": "https://localhost:8080/",
     "height": 369
    },
    "colab_type": "code",
    "id": "CfPymY6Su3uF",
    "outputId": "f27bf921-d79b-4d7c-94c7-46d8bb0e38a5"
   },
   "outputs": [
    {
     "name": "stderr",
     "output_type": "stream",
     "text": [
      "c:\\program files\\python37\\lib\\site-packages\\pandas\\core\\frame.py:3940: SettingWithCopyWarning: \n",
      "A value is trying to be set on a copy of a slice from a DataFrame\n",
      "\n",
      "See the caveats in the documentation: http://pandas.pydata.org/pandas-docs/stable/indexing.html#indexing-view-versus-copy\n",
      "  errors=errors)\n"
     ]
    },
    {
     "data": {
      "text/html": [
       "<div>\n",
       "<style scoped>\n",
       "    .dataframe tbody tr th:only-of-type {\n",
       "        vertical-align: middle;\n",
       "    }\n",
       "\n",
       "    .dataframe tbody tr th {\n",
       "        vertical-align: top;\n",
       "    }\n",
       "\n",
       "    .dataframe thead th {\n",
       "        text-align: right;\n",
       "    }\n",
       "</style>\n",
       "<table border=\"1\" class=\"dataframe\">\n",
       "  <thead>\n",
       "    <tr style=\"text-align: right;\">\n",
       "      <th></th>\n",
       "      <th>53701022</th>\n",
       "      <th>5370102212</th>\n",
       "      <th>55005653</th>\n",
       "      <th>55005655</th>\n",
       "      <th>6000657312</th>\n",
       "      <th>60006665</th>\n",
       "      <th>60006739</th>\n",
       "      <th>6000675704</th>\n",
       "      <th>6000679161</th>\n",
       "      <th>60105408</th>\n",
       "      <th>...</th>\n",
       "      <th>80502476</th>\n",
       "      <th>8050247685</th>\n",
       "      <th>8070091205</th>\n",
       "      <th>82203647</th>\n",
       "      <th>82204057</th>\n",
       "      <th>8220405712</th>\n",
       "      <th>83201291</th>\n",
       "      <th>8320129134</th>\n",
       "      <th>83201581</th>\n",
       "      <th>8320158103</th>\n",
       "    </tr>\n",
       "    <tr>\n",
       "      <th>user_id</th>\n",
       "      <th></th>\n",
       "      <th></th>\n",
       "      <th></th>\n",
       "      <th></th>\n",
       "      <th></th>\n",
       "      <th></th>\n",
       "      <th></th>\n",
       "      <th></th>\n",
       "      <th></th>\n",
       "      <th></th>\n",
       "      <th></th>\n",
       "      <th></th>\n",
       "      <th></th>\n",
       "      <th></th>\n",
       "      <th></th>\n",
       "      <th></th>\n",
       "      <th></th>\n",
       "      <th></th>\n",
       "      <th></th>\n",
       "      <th></th>\n",
       "      <th></th>\n",
       "    </tr>\n",
       "  </thead>\n",
       "  <tbody>\n",
       "    <tr>\n",
       "      <th>100301560214469309</th>\n",
       "      <td>0</td>\n",
       "      <td>0</td>\n",
       "      <td>0</td>\n",
       "      <td>0</td>\n",
       "      <td>0</td>\n",
       "      <td>1</td>\n",
       "      <td>1</td>\n",
       "      <td>0</td>\n",
       "      <td>0</td>\n",
       "      <td>0</td>\n",
       "      <td>...</td>\n",
       "      <td>0</td>\n",
       "      <td>0</td>\n",
       "      <td>0</td>\n",
       "      <td>0</td>\n",
       "      <td>0</td>\n",
       "      <td>0</td>\n",
       "      <td>0</td>\n",
       "      <td>0</td>\n",
       "      <td>0</td>\n",
       "      <td>0</td>\n",
       "    </tr>\n",
       "    <tr>\n",
       "      <th>101801561326641304</th>\n",
       "      <td>0</td>\n",
       "      <td>0</td>\n",
       "      <td>0</td>\n",
       "      <td>0</td>\n",
       "      <td>0</td>\n",
       "      <td>0</td>\n",
       "      <td>0</td>\n",
       "      <td>0</td>\n",
       "      <td>0</td>\n",
       "      <td>0</td>\n",
       "      <td>...</td>\n",
       "      <td>0</td>\n",
       "      <td>0</td>\n",
       "      <td>0</td>\n",
       "      <td>0</td>\n",
       "      <td>0</td>\n",
       "      <td>0</td>\n",
       "      <td>0</td>\n",
       "      <td>0</td>\n",
       "      <td>0</td>\n",
       "      <td>0</td>\n",
       "    </tr>\n",
       "    <tr>\n",
       "      <th>103515069369234156</th>\n",
       "      <td>0</td>\n",
       "      <td>0</td>\n",
       "      <td>0</td>\n",
       "      <td>0</td>\n",
       "      <td>0</td>\n",
       "      <td>0</td>\n",
       "      <td>0</td>\n",
       "      <td>0</td>\n",
       "      <td>0</td>\n",
       "      <td>0</td>\n",
       "      <td>...</td>\n",
       "      <td>0</td>\n",
       "      <td>0</td>\n",
       "      <td>0</td>\n",
       "      <td>0</td>\n",
       "      <td>0</td>\n",
       "      <td>0</td>\n",
       "      <td>0</td>\n",
       "      <td>0</td>\n",
       "      <td>0</td>\n",
       "      <td>0</td>\n",
       "    </tr>\n",
       "    <tr>\n",
       "      <th>117081561483306117</th>\n",
       "      <td>0</td>\n",
       "      <td>0</td>\n",
       "      <td>0</td>\n",
       "      <td>0</td>\n",
       "      <td>0</td>\n",
       "      <td>0</td>\n",
       "      <td>0</td>\n",
       "      <td>0</td>\n",
       "      <td>0</td>\n",
       "      <td>0</td>\n",
       "      <td>...</td>\n",
       "      <td>0</td>\n",
       "      <td>0</td>\n",
       "      <td>0</td>\n",
       "      <td>0</td>\n",
       "      <td>0</td>\n",
       "      <td>0</td>\n",
       "      <td>0</td>\n",
       "      <td>0</td>\n",
       "      <td>0</td>\n",
       "      <td>0</td>\n",
       "    </tr>\n",
       "    <tr>\n",
       "      <th>120201561320927468</th>\n",
       "      <td>0</td>\n",
       "      <td>0</td>\n",
       "      <td>0</td>\n",
       "      <td>0</td>\n",
       "      <td>0</td>\n",
       "      <td>0</td>\n",
       "      <td>0</td>\n",
       "      <td>0</td>\n",
       "      <td>0</td>\n",
       "      <td>0</td>\n",
       "      <td>...</td>\n",
       "      <td>0</td>\n",
       "      <td>0</td>\n",
       "      <td>0</td>\n",
       "      <td>0</td>\n",
       "      <td>0</td>\n",
       "      <td>0</td>\n",
       "      <td>0</td>\n",
       "      <td>0</td>\n",
       "      <td>0</td>\n",
       "      <td>0</td>\n",
       "    </tr>\n",
       "  </tbody>\n",
       "</table>\n",
       "<p>5 rows × 364 columns</p>\n",
       "</div>"
      ],
      "text/plain": [
       "                    53701022  5370102212  55005653  55005655  6000657312  \\\n",
       "user_id                                                                    \n",
       "100301560214469309         0           0         0         0           0   \n",
       "101801561326641304         0           0         0         0           0   \n",
       "103515069369234156         0           0         0         0           0   \n",
       "117081561483306117         0           0         0         0           0   \n",
       "120201561320927468         0           0         0         0           0   \n",
       "\n",
       "                    60006665  60006739  6000675704  6000679161  60105408  ...  \\\n",
       "user_id                                                                   ...   \n",
       "100301560214469309         1         1           0           0         0  ...   \n",
       "101801561326641304         0         0           0           0         0  ...   \n",
       "103515069369234156         0         0           0           0         0  ...   \n",
       "117081561483306117         0         0           0           0         0  ...   \n",
       "120201561320927468         0         0           0           0         0  ...   \n",
       "\n",
       "                    80502476  8050247685  8070091205  82203647  82204057  \\\n",
       "user_id                                                                    \n",
       "100301560214469309         0           0           0         0         0   \n",
       "101801561326641304         0           0           0         0         0   \n",
       "103515069369234156         0           0           0         0         0   \n",
       "117081561483306117         0           0           0         0         0   \n",
       "120201561320927468         0           0           0         0         0   \n",
       "\n",
       "                    8220405712  83201291  8320129134  83201581  8320158103  \n",
       "user_id                                                                     \n",
       "100301560214469309           0         0           0         0           0  \n",
       "101801561326641304           0         0           0         0           0  \n",
       "103515069369234156           0         0           0         0           0  \n",
       "117081561483306117           0         0           0         0           0  \n",
       "120201561320927468           0         0           0         0           0  \n",
       "\n",
       "[5 rows x 364 columns]"
      ]
     },
     "execution_count": 18,
     "metadata": {},
     "output_type": "execute_result"
    }
   ],
   "source": [
    "# criando one hot enconding\n",
    "columns = [\"id\"] # coluna do produto\n",
    "\n",
    "df_columns = df_adjust_04.columns\n",
    "\n",
    "for column in columns:\n",
    "  for df_column in df_columns:\n",
    "    if column == df_column:\n",
    "      # Get one hot encoding of columns B\n",
    "      one_hot = get_dummies(data = df_adjust_04[column], columns=[column])\n",
    "      # Drop column B as it is now encoded\n",
    "      df_adjust_04.drop(column, axis = 1, inplace = True)\n",
    "      # Join the encoded df\n",
    "      df_adjust_04 = df_adjust_04.join(one_hot)\n",
    "\n",
    "# agrupa registros pelo user_id, fazendo um merge das colunas \"duplicadas\"\n",
    "df_adjust_05 = df_adjust_04.groupby(\"user_id\", axis = 0).sum()\n",
    "\n",
    "# listando o dataset agregado\n",
    "df_adjust_05.head(5)"
   ]
  },
  {
   "cell_type": "code",
   "execution_count": 19,
   "metadata": {
    "colab": {
     "base_uri": "https://localhost:8080/",
     "height": 34
    },
    "colab_type": "code",
    "id": "7brZ4V3Fpa80",
    "outputId": "1d490880-a883-4df3-dbfd-957f26ff86e9"
   },
   "outputs": [
    {
     "name": "stdout",
     "output_type": "stream",
     "text": [
      "Shape: (101, 364)\n"
     ]
    }
   ],
   "source": [
    "print(\"Shape:\", df_adjust_05.shape)"
   ]
  },
  {
   "cell_type": "code",
   "execution_count": 20,
   "metadata": {
    "colab": {
     "base_uri": "https://localhost:8080/",
     "height": 54
    },
    "colab_type": "code",
    "id": "diUnwjtZubgs",
    "outputId": "2a76e873-7e8a-424d-ab7b-9bdd86a6701e"
   },
   "outputs": [
    {
     "data": {
      "text/plain": [
       "'\\n# Transformando o DataFrame em listas contidas dentro de uma \"grande\" lista\\nlen_lines = len(df_adjust_05)\\nlen_columns = len(df_adjust_05.columns)\\n\\ntransactions = []  \\nfor i in range(0, len_lines):\\n    transactions.append([str(df_adjust_05.values[i,j]) for j in range(0, len_columns)])\\n'"
      ]
     },
     "execution_count": 20,
     "metadata": {},
     "output_type": "execute_result"
    }
   ],
   "source": [
    "'''\n",
    "# Transformando o DataFrame em listas contidas dentro de uma \"grande\" lista\n",
    "len_lines = len(df_adjust_05)\n",
    "len_columns = len(df_adjust_05.columns)\n",
    "\n",
    "transactions = []  \n",
    "for i in range(0, len_lines):\n",
    "    transactions.append([str(df_adjust_05.values[i,j]) for j in range(0, len_columns)])\n",
    "'''"
   ]
  },
  {
   "cell_type": "code",
   "execution_count": 21,
   "metadata": {
    "colab": {},
    "colab_type": "code",
    "id": "pzbWPH_6BTP_"
   },
   "outputs": [],
   "source": [
    "# Aplicando algoritmo Apriori\n",
    "frequent_itemsets = apriori(df_adjust_05, min_support=0.05, use_colnames=True)"
   ]
  },
  {
   "cell_type": "code",
   "execution_count": 22,
   "metadata": {
    "colab": {
     "base_uri": "https://localhost:8080/",
     "height": 204
    },
    "colab_type": "code",
    "id": "DVq_fuYYBTSv",
    "outputId": "d16a0a13-30ca-4a57-af90-66ad233ec644"
   },
   "outputs": [
    {
     "data": {
      "text/html": [
       "<div>\n",
       "<style scoped>\n",
       "    .dataframe tbody tr th:only-of-type {\n",
       "        vertical-align: middle;\n",
       "    }\n",
       "\n",
       "    .dataframe tbody tr th {\n",
       "        vertical-align: top;\n",
       "    }\n",
       "\n",
       "    .dataframe thead th {\n",
       "        text-align: right;\n",
       "    }\n",
       "</style>\n",
       "<table border=\"1\" class=\"dataframe\">\n",
       "  <thead>\n",
       "    <tr style=\"text-align: right;\">\n",
       "      <th></th>\n",
       "      <th>antecedents</th>\n",
       "      <th>consequents</th>\n",
       "      <th>antecedent support</th>\n",
       "      <th>consequent support</th>\n",
       "      <th>support</th>\n",
       "      <th>confidence</th>\n",
       "      <th>lift</th>\n",
       "      <th>leverage</th>\n",
       "      <th>conviction</th>\n",
       "    </tr>\n",
       "  </thead>\n",
       "  <tbody>\n",
       "    <tr>\n",
       "      <th>0</th>\n",
       "      <td>(7670039902)</td>\n",
       "      <td>(76700399)</td>\n",
       "      <td>0.108911</td>\n",
       "      <td>1.000000</td>\n",
       "      <td>0.108911</td>\n",
       "      <td>1.000000</td>\n",
       "      <td>1.0</td>\n",
       "      <td>0.0</td>\n",
       "      <td>inf</td>\n",
       "    </tr>\n",
       "    <tr>\n",
       "      <th>1</th>\n",
       "      <td>(76700399)</td>\n",
       "      <td>(7670039902)</td>\n",
       "      <td>1.000000</td>\n",
       "      <td>0.108911</td>\n",
       "      <td>0.108911</td>\n",
       "      <td>0.108911</td>\n",
       "      <td>1.0</td>\n",
       "      <td>0.0</td>\n",
       "      <td>1.0</td>\n",
       "    </tr>\n",
       "    <tr>\n",
       "      <th>2</th>\n",
       "      <td>(7670039905)</td>\n",
       "      <td>(76700399)</td>\n",
       "      <td>0.138614</td>\n",
       "      <td>1.000000</td>\n",
       "      <td>0.138614</td>\n",
       "      <td>1.000000</td>\n",
       "      <td>1.0</td>\n",
       "      <td>0.0</td>\n",
       "      <td>inf</td>\n",
       "    </tr>\n",
       "    <tr>\n",
       "      <th>3</th>\n",
       "      <td>(76700399)</td>\n",
       "      <td>(7670039905)</td>\n",
       "      <td>1.000000</td>\n",
       "      <td>0.138614</td>\n",
       "      <td>0.138614</td>\n",
       "      <td>0.138614</td>\n",
       "      <td>1.0</td>\n",
       "      <td>0.0</td>\n",
       "      <td>1.0</td>\n",
       "    </tr>\n",
       "    <tr>\n",
       "      <th>4</th>\n",
       "      <td>(7670039910)</td>\n",
       "      <td>(76700399)</td>\n",
       "      <td>0.148515</td>\n",
       "      <td>1.000000</td>\n",
       "      <td>0.148515</td>\n",
       "      <td>1.000000</td>\n",
       "      <td>1.0</td>\n",
       "      <td>0.0</td>\n",
       "      <td>inf</td>\n",
       "    </tr>\n",
       "  </tbody>\n",
       "</table>\n",
       "</div>"
      ],
      "text/plain": [
       "    antecedents   consequents  antecedent support  consequent support  \\\n",
       "0  (7670039902)    (76700399)            0.108911            1.000000   \n",
       "1    (76700399)  (7670039902)            1.000000            0.108911   \n",
       "2  (7670039905)    (76700399)            0.138614            1.000000   \n",
       "3    (76700399)  (7670039905)            1.000000            0.138614   \n",
       "4  (7670039910)    (76700399)            0.148515            1.000000   \n",
       "\n",
       "    support  confidence  lift  leverage  conviction  \n",
       "0  0.108911    1.000000   1.0       0.0         inf  \n",
       "1  0.108911    0.108911   1.0       0.0         1.0  \n",
       "2  0.138614    1.000000   1.0       0.0         inf  \n",
       "3  0.138614    0.138614   1.0       0.0         1.0  \n",
       "4  0.148515    1.000000   1.0       0.0         inf  "
      ]
     },
     "execution_count": 22,
     "metadata": {},
     "output_type": "execute_result"
    }
   ],
   "source": [
    "rules = association_rules(frequent_itemsets, metric=\"lift\", min_threshold=1)\n",
    "rules.head(5)"
   ]
  },
  {
   "cell_type": "code",
   "execution_count": 23,
   "metadata": {
    "colab": {
     "base_uri": "https://localhost:8080/",
     "height": 328
    },
    "colab_type": "code",
    "id": "BpKj1pV-CQGW",
    "outputId": "214f8681-5e08-45e2-ea7b-3d4f30f9b555"
   },
   "outputs": [
    {
     "data": {
      "text/html": [
       "<div>\n",
       "<style scoped>\n",
       "    .dataframe tbody tr th:only-of-type {\n",
       "        vertical-align: middle;\n",
       "    }\n",
       "\n",
       "    .dataframe tbody tr th {\n",
       "        vertical-align: top;\n",
       "    }\n",
       "\n",
       "    .dataframe thead th {\n",
       "        text-align: right;\n",
       "    }\n",
       "</style>\n",
       "<table border=\"1\" class=\"dataframe\">\n",
       "  <thead>\n",
       "    <tr style=\"text-align: right;\">\n",
       "      <th></th>\n",
       "      <th>antecedents</th>\n",
       "      <th>consequents</th>\n",
       "      <th>antecedent support</th>\n",
       "      <th>consequent support</th>\n",
       "      <th>support</th>\n",
       "      <th>confidence</th>\n",
       "      <th>lift</th>\n",
       "      <th>leverage</th>\n",
       "      <th>conviction</th>\n",
       "    </tr>\n",
       "  </thead>\n",
       "  <tbody>\n",
       "    <tr>\n",
       "      <th>25</th>\n",
       "      <td>(7670039905)</td>\n",
       "      <td>(7670039995)</td>\n",
       "      <td>0.138614</td>\n",
       "      <td>0.158416</td>\n",
       "      <td>0.108911</td>\n",
       "      <td>0.785714</td>\n",
       "      <td>4.959821</td>\n",
       "      <td>0.086952</td>\n",
       "      <td>3.927393</td>\n",
       "    </tr>\n",
       "    <tr>\n",
       "      <th>72</th>\n",
       "      <td>(7670039905, 76700399)</td>\n",
       "      <td>(7670039995)</td>\n",
       "      <td>0.138614</td>\n",
       "      <td>0.158416</td>\n",
       "      <td>0.108911</td>\n",
       "      <td>0.785714</td>\n",
       "      <td>4.959821</td>\n",
       "      <td>0.086952</td>\n",
       "      <td>3.927393</td>\n",
       "    </tr>\n",
       "    <tr>\n",
       "      <th>74</th>\n",
       "      <td>(7670039905)</td>\n",
       "      <td>(7670039995, 76700399)</td>\n",
       "      <td>0.138614</td>\n",
       "      <td>0.158416</td>\n",
       "      <td>0.108911</td>\n",
       "      <td>0.785714</td>\n",
       "      <td>4.959821</td>\n",
       "      <td>0.086952</td>\n",
       "      <td>3.927393</td>\n",
       "    </tr>\n",
       "    <tr>\n",
       "      <th>138</th>\n",
       "      <td>(7670039912, 7670039905)</td>\n",
       "      <td>(7670039995)</td>\n",
       "      <td>0.099010</td>\n",
       "      <td>0.158416</td>\n",
       "      <td>0.089109</td>\n",
       "      <td>0.900000</td>\n",
       "      <td>5.681250</td>\n",
       "      <td>0.073424</td>\n",
       "      <td>8.415842</td>\n",
       "    </tr>\n",
       "    <tr>\n",
       "      <th>235</th>\n",
       "      <td>(7670039912, 7670039905, 76700399)</td>\n",
       "      <td>(7670039995)</td>\n",
       "      <td>0.099010</td>\n",
       "      <td>0.158416</td>\n",
       "      <td>0.089109</td>\n",
       "      <td>0.900000</td>\n",
       "      <td>5.681250</td>\n",
       "      <td>0.073424</td>\n",
       "      <td>8.415842</td>\n",
       "    </tr>\n",
       "    <tr>\n",
       "      <th>239</th>\n",
       "      <td>(7670039912, 7670039905)</td>\n",
       "      <td>(7670039995, 76700399)</td>\n",
       "      <td>0.099010</td>\n",
       "      <td>0.158416</td>\n",
       "      <td>0.089109</td>\n",
       "      <td>0.900000</td>\n",
       "      <td>5.681250</td>\n",
       "      <td>0.073424</td>\n",
       "      <td>8.415842</td>\n",
       "    </tr>\n",
       "    <tr>\n",
       "      <th>14</th>\n",
       "      <td>(7670039902)</td>\n",
       "      <td>(7670039910)</td>\n",
       "      <td>0.108911</td>\n",
       "      <td>0.148515</td>\n",
       "      <td>0.089109</td>\n",
       "      <td>0.818182</td>\n",
       "      <td>5.509091</td>\n",
       "      <td>0.072934</td>\n",
       "      <td>4.683168</td>\n",
       "    </tr>\n",
       "    <tr>\n",
       "      <th>41</th>\n",
       "      <td>(7670039902, 76700399)</td>\n",
       "      <td>(7670039910)</td>\n",
       "      <td>0.108911</td>\n",
       "      <td>0.148515</td>\n",
       "      <td>0.089109</td>\n",
       "      <td>0.818182</td>\n",
       "      <td>5.509091</td>\n",
       "      <td>0.072934</td>\n",
       "      <td>4.683168</td>\n",
       "    </tr>\n",
       "    <tr>\n",
       "      <th>43</th>\n",
       "      <td>(7670039902)</td>\n",
       "      <td>(7670039910, 76700399)</td>\n",
       "      <td>0.108911</td>\n",
       "      <td>0.148515</td>\n",
       "      <td>0.089109</td>\n",
       "      <td>0.818182</td>\n",
       "      <td>5.509091</td>\n",
       "      <td>0.072934</td>\n",
       "      <td>4.683168</td>\n",
       "    </tr>\n",
       "  </tbody>\n",
       "</table>\n",
       "</div>"
      ],
      "text/plain": [
       "                            antecedents             consequents  \\\n",
       "25                         (7670039905)            (7670039995)   \n",
       "72               (7670039905, 76700399)            (7670039995)   \n",
       "74                         (7670039905)  (7670039995, 76700399)   \n",
       "138            (7670039912, 7670039905)            (7670039995)   \n",
       "235  (7670039912, 7670039905, 76700399)            (7670039995)   \n",
       "239            (7670039912, 7670039905)  (7670039995, 76700399)   \n",
       "14                         (7670039902)            (7670039910)   \n",
       "41               (7670039902, 76700399)            (7670039910)   \n",
       "43                         (7670039902)  (7670039910, 76700399)   \n",
       "\n",
       "     antecedent support  consequent support   support  confidence      lift  \\\n",
       "25             0.138614            0.158416  0.108911    0.785714  4.959821   \n",
       "72             0.138614            0.158416  0.108911    0.785714  4.959821   \n",
       "74             0.138614            0.158416  0.108911    0.785714  4.959821   \n",
       "138            0.099010            0.158416  0.089109    0.900000  5.681250   \n",
       "235            0.099010            0.158416  0.089109    0.900000  5.681250   \n",
       "239            0.099010            0.158416  0.089109    0.900000  5.681250   \n",
       "14             0.108911            0.148515  0.089109    0.818182  5.509091   \n",
       "41             0.108911            0.148515  0.089109    0.818182  5.509091   \n",
       "43             0.108911            0.148515  0.089109    0.818182  5.509091   \n",
       "\n",
       "     leverage  conviction  \n",
       "25   0.086952    3.927393  \n",
       "72   0.086952    3.927393  \n",
       "74   0.086952    3.927393  \n",
       "138  0.073424    8.415842  \n",
       "235  0.073424    8.415842  \n",
       "239  0.073424    8.415842  \n",
       "14   0.072934    4.683168  \n",
       "41   0.072934    4.683168  \n",
       "43   0.072934    4.683168  "
      ]
     },
     "execution_count": 23,
     "metadata": {},
     "output_type": "execute_result"
    }
   ],
   "source": [
    "support = 0.08 # 8%\n",
    "confidence = 0.7 # 75%\n",
    "lift = 3\n",
    "\n",
    "rules[ (rules['lift'] >= lift) & (rules['confidence'] >= confidence) & (rules['support'] >= support) ].sort_values(by=[\"support\", \"confidence\", \"lift\"], ascending=False)"
   ]
  },
  {
   "cell_type": "markdown",
   "metadata": {
    "colab_type": "text",
    "id": "O6CqX-6cclfl"
   },
   "source": [
    "**6. Avaliação do Modelo**\n",
    "\n",
    "Qual produto deve ser recomendado para um usuário que navegou o produto **76700399**?\n",
    "\n",
    "R.: Recomendaria o produto **7670039905**, pois trata-se de um item que *em conjunto com o produto* **76700399** aparecem com uma frequência de popularidade (support) de 10,89%, sendo a probabilidade de **76700399** estar associado com **7670039905** é de cerca de 78,57%. Além disso, a probabilidade de **76700399** estar associado com **7670039905** em função da sua própria popularidade é de cerca de 4,95.\n",
    "\n",
    "**7. Sugestões de outras análises de associações de itens**\n",
    "\n",
    "- Seria interessante ver as piores associações para que ações não envolvem tais recomendações;\n",
    "- Avaliar os top produtos mais populares, a fim de elaborar uma estratégia de recomendação diferente do market basket, e comparando a eficácia de ambos;"
   ]
  }
 ],
 "metadata": {
  "colab": {
   "collapsed_sections": [],
   "name": "Modelo de Recomendação.ipynb",
   "provenance": [],
   "version": "0.3.2"
  },
  "kernelspec": {
   "display_name": "Python 3",
   "language": "python",
   "name": "python3"
  },
  "language_info": {
   "codemirror_mode": {
    "name": "ipython",
    "version": 3
   },
   "file_extension": ".py",
   "mimetype": "text/x-python",
   "name": "python",
   "nbconvert_exporter": "python",
   "pygments_lexer": "ipython3",
   "version": "3.7.3"
  }
 },
 "nbformat": 4,
 "nbformat_minor": 1
}
