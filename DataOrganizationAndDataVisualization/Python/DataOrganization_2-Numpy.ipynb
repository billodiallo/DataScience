{
 "cells": [
  {
   "cell_type": "markdown",
   "metadata": {
    "collapsed": true
   },
   "source": [
    "### Numpy -> para trabalhar com sequências de elementos de forma mais otimizada que demais funcionalidades built-in do Python"
   ]
  },
  {
   "cell_type": "code",
   "execution_count": 1,
   "metadata": {
    "collapsed": false
   },
   "outputs": [
    {
     "name": "stdout",
     "output_type": "stream",
     "text": [
      "3.6.0 |Anaconda 4.3.1 (64-bit)| (default, Dec 23 2016, 11:57:41) [MSC v.1900 64 bit (AMD64)] \n",
      "\n"
     ]
    },
    {
     "data": {
      "text/plain": [
       "'1.11.3'"
      ]
     },
     "execution_count": 1,
     "metadata": {},
     "output_type": "execute_result"
    }
   ],
   "source": [
    "import sys\n",
    "import numpy as np\n",
    "print(sys.version, '\\n')\n",
    "np.__version__"
   ]
  },
  {
   "cell_type": "code",
   "execution_count": 2,
   "metadata": {
    "collapsed": false
   },
   "outputs": [
    {
     "name": "stdout",
     "output_type": "stream",
     "text": [
      "imprimindo array original (array7):\n",
      "[ 0  2  4  6  8 10 12 14 16 18 20 22 24 26 28] \n",
      "\n",
      "imprimindo operações matemáticas sobre o array do Numpy:\n",
      "média dos elementos do array: 14.0\n",
      "soma dos elementos do array: 210\n",
      "valor mínnimo: 0\n",
      "valor máximo: 28\n",
      "desvio padrão: 8.64098759788\n"
     ]
    }
   ],
   "source": [
    "array7 = np.arange(0,30,2)\n",
    "print('imprimindo array original (array7):')\n",
    "print(array7, '\\n')\n",
    "\n",
    "print('imprimindo operações matemáticas sobre o array do Numpy:')\n",
    "print('média dos elementos do array:', array7.mean())\n",
    "print('soma dos elementos do array:', array7.sum())\n",
    "print('valor mínnimo:', array7.min())\n",
    "print('valor máximo:', array7.max())\n",
    "print('desvio padrão:', array7.std())"
   ]
  },
  {
   "cell_type": "markdown",
   "metadata": {},
   "source": [
    "### Utilizando List Comprehension em Arrays Numpy"
   ]
  },
  {
   "cell_type": "code",
   "execution_count": 3,
   "metadata": {
    "collapsed": false
   },
   "outputs": [
    {
     "name": "stdout",
     "output_type": "stream",
     "text": [
      "imprimindo array original (array7):\n",
      "[ 0  2  4  6  8 10 12 14 16 18 20 22 24 26 28] \n",
      "\n",
      "imprimindo uma list comprehension com numpy, tendo o conjunto de dados o array7:\n",
      "[0, 4, 16, 36, 64, 100, 144, 196, 256, 324, 400, 484, 576, 676, 784] \n",
      "\n",
      "imprimindo uma list comprehension com numpy, tendo o conjunto de dados o array7 + predicado (valores >= 18):\n",
      " array com valores >= 18 -------> [18, 20, 22, 24, 26, 28]\n",
      "[array com valores >= 18]**2 ---> [324, 400, 484, 576, 676, 784]\n"
     ]
    }
   ],
   "source": [
    "print('imprimindo array original (array7):')\n",
    "print(array7, '\\n')\n",
    "\n",
    "print('imprimindo uma list comprehension com numpy, tendo o conjunto de dados o array7:')\n",
    "print([x**2 for x in array7], '\\n')\n",
    "\n",
    "print('imprimindo uma list comprehension com numpy, tendo o conjunto de dados o array7 + predicado (valores >= 18):')\n",
    "print(' array com valores >= 18 ------->', [x for x in array7 if x >= 18])\n",
    "print('[array com valores >= 18]**2 --->', [x**2 for x in array7 if x >= 18])"
   ]
  },
  {
   "cell_type": "markdown",
   "metadata": {},
   "source": [
    "### Utilizando Função Lambda em Arrays Numpy"
   ]
  },
  {
   "cell_type": "code",
   "execution_count": 4,
   "metadata": {
    "collapsed": false
   },
   "outputs": [
    {
     "name": "stdout",
     "output_type": "stream",
     "text": [
      "imprimindo array original (array8):\n",
      "[ 3 10 17 24 31 38 45 52 59] \n",
      "\n",
      "A) imprimindo valores de um processamento de ums função lambda, onde os dados são oriundos de um array Numpy (array8):\n",
      "[10, 24, 38, 52] \n",
      "\n",
      "executando a mesma função acima, porém utilizando uma funcionalidade do próprio NUMPY:\n",
      "ATENÇÃO!!! \n",
      "\n",
      "lista de valores BOOLENOS que compreende a operação em Numpy -> array8 % 2 == 0\n",
      "[False  True False  True False  True False  True False] \n",
      "\n",
      "B) lista de valores que compreende a operação em Numpy, porém com notação em ÍNDICE -> array8[array8 % 2 == 0]:\n",
      "[10 24 38 52]\n"
     ]
    }
   ],
   "source": [
    "array8 = np.arange(3,66,7)\n",
    "print('imprimindo array original (array8):')\n",
    "print(array8, '\\n')\n",
    "\n",
    "print('A) imprimindo valores de um processamento de ums função lambda, onde os dados são oriundos de um array Numpy (array8):')\n",
    "print(list(filter(lambda x: x % 2 == 0, array8)), '\\n')\n",
    "\n",
    "print('executando a mesma função acima, porém utilizando uma funcionalidade do próprio NUMPY:')\n",
    "print('ATENÇÃO!!!','\\n')\n",
    "print('lista de valores BOOLENOS que compreende a operação em Numpy -> array8 % 2 == 0')\n",
    "print(array8 % 2 == 0, '\\n')\n",
    "\n",
    "print('B) lista de valores que compreende a operação em Numpy, porém com notação em ÍNDICE -> array8[array8 % 2 == 0]:')\n",
    "print(array8[array8 % 2 == 0])"
   ]
  },
  {
   "cell_type": "markdown",
   "metadata": {},
   "source": [
    "### Performance - List Comprehension X Numpy"
   ]
  },
  {
   "cell_type": "code",
   "execution_count": 8,
   "metadata": {
    "collapsed": false
   },
   "outputs": [
    {
     "name": "stdout",
     "output_type": "stream",
     "text": [
      "imprimindo array original (array9):\n",
      "[3, 10, 17, 24, 31, 38, 45, 52, 59, 66, 73, 80, 87, 94, 101, 108, 115, 122, 129, 136, 143, 150, 157, 164, 171, 178, 185, 192, 199, 206, 213, 220, 227, 234, 241, 248, 255, 262, 269, 276, 283, 290, 297] \n",
      "\n",
      "Executando operação para teste de performance com NUMPY... \n",
      "\n",
      "[50.0, 288.0, 722.0, 1352.0, 2178.0, 3200.0, 4418.0, 5832.0, 7442.0, 9248.0, 11250.0, 13448.0, 15842.0, 18432.0, 21218.0, 24200.0, 27378.0, 30752.0, 34322.0, 38088.0, 42050.0] \n",
      "\n",
      "100000 loops, best of 3: 16.5 µs per loop\n"
     ]
    }
   ],
   "source": [
    "#List Comprehension\n",
    "import numpy as np\n",
    "\n",
    "#List Comprehension\n",
    "array9 = np.arange(3,300,7)\n",
    "print('imprimindo array original (array9):')\n",
    "print(list(array9), '\\n')\n",
    "\n",
    "print('Executando operação para teste de performance com NUMPY...', '\\n')\n",
    "print([(x**2)/2 for x in array9 if x % 2 == 0], '\\n')\n",
    "\n",
    "%timeit [(x**2)/2 for x in array9 if x % 2 == 0]"
   ]
  },
  {
   "cell_type": "code",
   "execution_count": 7,
   "metadata": {
    "collapsed": false
   },
   "outputs": [
    {
     "name": "stdout",
     "output_type": "stream",
     "text": [
      "imprimindo array original (array10):\n",
      "[3, 10, 17, 24, 31, 38, 45, 52, 59, 66, 73, 80, 87, 94, 101, 108, 115, 122, 129, 136, 143, 150, 157, 164, 171, 178, 185, 192, 199, 206, 213, 220, 227, 234, 241, 248, 255, 262, 269, 276, 283, 290, 297] \n",
      "\n",
      "Executando operação para teste de performance com NUMPY... \n",
      "\n",
      "[    50.    288.    722.   1352.   2178.   3200.   4418.   5832.   7442.\n",
      "   9248.  11250.  13448.  15842.  18432.  21218.  24200.  27378.  30752.\n",
      "  34322.  38088.  42050.] \n",
      "\n",
      "The slowest run took 21.34 times longer than the fastest. This could mean that an intermediate result is being cached.\n",
      "100000 loops, best of 3: 3.73 µs per loop\n"
     ]
    }
   ],
   "source": [
    "#Numpy\n",
    "import numpy as np\n",
    "\n",
    "#List Comprehension\n",
    "array10 = np.arange(3,300,7)\n",
    "print('imprimindo array original (array10):')\n",
    "print(list(array10), '\\n')\n",
    "\n",
    "print('Executando operação para teste de performance com NUMPY...', '\\n')\n",
    "print(((array10[array10 % 2 == 0])**2)/2, '\\n')\n",
    "\n",
    "%timeit ((array9[array9 % 2 == 0])**2)/2"
   ]
  },
  {
   "cell_type": "markdown",
   "metadata": {
    "collapsed": true
   },
   "source": [
    "### Usando operadores lógicos"
   ]
  },
  {
   "cell_type": "code",
   "execution_count": 37,
   "metadata": {
    "collapsed": false
   },
   "outputs": [
    {
     "name": "stdout",
     "output_type": "stream",
     "text": [
      "imprimindo array original (array11):\n",
      "[100, 109, 118, 127, 136, 145, 154, 163, 172, 181, 190, 199, 208, 217, 226, 235, 244, 253, 262, 271, 280, 289, 298] \n",
      "\n",
      "comparando se valores do array atendem ou não uma condição de um operdor lógico (array11 > 200):\n",
      "[False False False False False False False False False False False False\n",
      "  True  True  True  True  True  True  True  True  True  True  True] \n",
      "\n",
      "Array como uma condição de índice, onde dentro da notação de índice, o resultado são os elementos que atendem\n",
      "aquela condição (array11[array11>200])\n",
      "[208 217 226 235 244 253 262 271 280 289 298] \n",
      "\n",
      "operador lógico E (&) em relação ao array original (array11>150) & (array11<200):\n",
      "[False False False False False False  True  True  True  True  True  True\n",
      " False False False False False False False False False False False] \n",
      "\n",
      "operador lógico OU (|) em relação ao array original (array11>200) | (array11<149):\n",
      "[ True  True  True  True  True  True False False False False False False\n",
      "  True  True  True  True  True  True  True  True  True  True  True] \n",
      "\n",
      "operador lógico E (&) como notação de indice array11[(array11>150) & (array11<200)]:\n",
      "[154 163 172 181 190 199] \n",
      "\n",
      "criando um array numpy usando list compreenhension (np.array([x*2 for x in np.arange(150,300,20)]):\n",
      "[300 340 380 420 460 500 540 580]\n"
     ]
    }
   ],
   "source": [
    "#Numpy\n",
    "import numpy as np\n",
    "\n",
    "array11 = np.arange(100,300,9)\n",
    "print('imprimindo array original (array11):')\n",
    "print(list(array11), '\\n')\n",
    "\n",
    "print('comparando se valores do array atendem ou não uma condição de um operdor lógico (array11 > 200):')\n",
    "print(array11 > 200, '\\n')\n",
    "\n",
    "print('Array como uma condição de índice, onde dentro da notação de índice, o resultado são os elementos que atendem')\n",
    "print('aquela condição (array11[array11>200])')\n",
    "print(array11[array11>200],'\\n')\n",
    "\n",
    "print('operador lógico E (&) em relação ao array original (array11>150) & (array11<200):')\n",
    "print((array11>150) & (array11<200), '\\n')\n",
    "\n",
    "print('operador lógico OU (|) em relação ao array original (array11>200) | (array11<149):')\n",
    "print((array11>200) | (array11<149), '\\n')\n",
    "\n",
    "print('operador lógico E (&) como notação de indice array11[(array11>150) & (array11<200)]:')\n",
    "print(array11[(array11>150) & (array11<200)], '\\n')\n",
    "\n",
    "print('criando um array numpy usando list compreenhension (np.array([x*2 for x in np.arange(150,300,20)]):')\n",
    "array12 = np.array([x*2 for x in np.arange(150,300,20)])\n",
    "print(array12)\n",
    "\n"
   ]
  },
  {
   "cell_type": "markdown",
   "metadata": {
    "collapsed": true
   },
   "source": [
    "### Concatenando arrays"
   ]
  },
  {
   "cell_type": "code",
   "execution_count": 42,
   "metadata": {
    "collapsed": false
   },
   "outputs": [
    {
     "name": "stdout",
     "output_type": "stream",
     "text": [
      "imprimindo array12 original\n",
      "[0 1 2 3 4 5 6 7 8 9] \n",
      "\n",
      "imprimindo array13 original\n",
      "[ 0.  0.  0.  0.  0.  0.  0.  0.  0.  0.] \n",
      "\n",
      "concatenando array12 com array 13\n",
      "[ 0.  1.  2.  3.  4.  5.  6.  7.  8.  9.  0.  0.  0.  0.  0.  0.  0.  0.\n",
      "  0.  0.]\n"
     ]
    }
   ],
   "source": [
    "import numpy as np\n",
    "\n",
    "print('imprimindo array12 original')\n",
    "array12 = np.arange(0,10,1)\n",
    "print(array12, '\\n')\n",
    "\n",
    "print('imprimindo array13 original')\n",
    "array13 = np.zeros(10)\n",
    "print(array13, '\\n')\n",
    "\n",
    "print('concatenando array12 com array 13')\n",
    "array_concat = np.concatenate((array12, array13))\n",
    "print(array_concat)"
   ]
  },
  {
   "cell_type": "markdown",
   "metadata": {},
   "source": [
    "### Join Arrays"
   ]
  },
  {
   "cell_type": "code",
   "execution_count": 65,
   "metadata": {
    "collapsed": false
   },
   "outputs": [
    {
     "name": "stdout",
     "output_type": "stream",
     "text": [
      "imprimindo matriz \"v\" original\n",
      "[['x' 'y' 'z']\n",
      " ['a' 'b' 'c']\n",
      " ['j' 'k' 'l']] \n",
      "\n",
      "imprimindo matriz \"v\" original\n",
      "[[ 0.  0.  0.]\n",
      " [ 0.  0.  0.]\n",
      " [ 0.  0.  0.]] \n",
      "\n",
      "imprimindo concatenação VERTICAL entre as matrizes \"v\" e \"z\" (np.vstack)\n",
      "[['x' 'y' 'z']\n",
      " ['a' 'b' 'c']\n",
      " ['j' 'k' 'l']\n",
      " ['0.0' '0.0' '0.0']\n",
      " ['0.0' '0.0' '0.0']\n",
      " ['0.0' '0.0' '0.0']] \n",
      "\n",
      "imprimindo concatenação VERTICAL entre as matrizes \"v\" e \"z\" (np.hstack)\n",
      "[['x' 'y' 'z' '0.0' '0.0' '0.0']\n",
      " ['a' 'b' 'c' '0.0' '0.0' '0.0']\n",
      " ['j' 'k' 'l' '0.0' '0.0' '0.0']] \n",
      "\n",
      "imprimindo array14 original\n",
      "['e' 'rr' 'tt' 'gf'] \n",
      "\n",
      "imprimindo array15 original\n",
      "[  1.23  55.6   85.44  22.74] \n",
      "\n",
      "imprimindo array16 original\n",
      "['banana' 'maçã' 'pêra' 'abacaxi'] \n",
      "\n",
      "imprimindo concatenação VERTICAL entre as os arrays: array14, array15, array16 (np.column_stack)\n",
      "[['e' '1.23' 'banana']\n",
      " ['rr' '55.6' 'maçã']\n",
      " ['tt' '85.44' 'pêra']\n",
      " ['gf' '22.74' 'abacaxi']] \n",
      "\n",
      "imprimindo concatenação HORIZONTAL entre as os arrays: array14, array15, array16 (np.row_stack)\n",
      "[['e' 'rr' 'tt' 'gf']\n",
      " ['1.23' '55.6' '85.44' '22.74']\n",
      " ['banana' 'maçã' 'pêra' 'abacaxi']] \n",
      "\n"
     ]
    }
   ],
   "source": [
    "import numpy as np\n",
    "\n",
    "print('imprimindo matriz \"v\" original')\n",
    "v = np.array([['x', 'y', 'z'], ['a', 'b', 'c'], ['j', 'k', 'l']])\n",
    "print(v, '\\n')\n",
    "\n",
    "print('imprimindo matriz \"v\" original')\n",
    "z = np.zeros((3,3))\n",
    "print(z, '\\n')\n",
    "\n",
    "#np.vstack - organizção de colunas entre arrays\n",
    "print('imprimindo concatenação VERTICAL entre as matrizes \"v\" e \"z\" (np.vstack)')\n",
    "print(np.vstack((v, z)),'\\n')\n",
    "\n",
    "#np.hstack - organizção de linhas entre arrays\n",
    "print('imprimindo concatenação VERTICAL entre as matrizes \"v\" e \"z\" (np.hstack)')\n",
    "print(np.hstack((v, z)),'\\n')\n",
    "\n",
    "print('imprimindo array14 original')\n",
    "array14 = np.array([\"e\", \"rr\", \"tt\", \"gf\"])\n",
    "print(array14, '\\n')\n",
    "print('imprimindo array15 original')\n",
    "array15 = np.array([1.23, 55.6, 85.44, 22.74])\n",
    "print(array15, '\\n')\n",
    "print('imprimindo array16 original')\n",
    "array16 = np.array([\"banana\", \"maçã\", \"pêra\", \"abacaxi\"])\n",
    "print(array16, '\\n')\n",
    "\n",
    "print('imprimindo concatenação VERTICAL entre as os arrays: array14, array15, array16 (np.column_stack)')\n",
    "print(np.column_stack((array14, array15, array16)),'\\n')\n",
    "\n",
    "print('imprimindo concatenação HORIZONTAL entre as os arrays: array14, array15, array16 (np.row_stack)')\n",
    "print(np.row_stack((array14, array15, array16)),'\\n')"
   ]
  },
  {
   "cell_type": "markdown",
   "metadata": {},
   "source": [
    "### Split Arrays"
   ]
  },
  {
   "cell_type": "code",
   "execution_count": 5,
   "metadata": {
    "collapsed": false
   },
   "outputs": [
    {
     "name": "stdout",
     "output_type": "stream",
     "text": [
      "imprimindo o array17 original:\n",
      "[[110 120 130 140]\n",
      " [150 160 170 180]\n",
      " [190 200 210 220]\n",
      " [230 240 250 260]] \n",
      " shape:  (4, 4) \n",
      "\n",
      "dividindo o array17 ORIGINAL em duas partes, por SEQUÊNCIA DE COLUNAS (np.hsplit):\n",
      "parte 1 do array17 \n",
      " [[110 120]\n",
      " [150 160]\n",
      " [190 200]\n",
      " [230 240]] \n",
      "\n",
      "parte 2 do array17 \n",
      " [[130 140]\n",
      " [170 180]\n",
      " [210 220]\n",
      " [250 260]] \n",
      "\n",
      "dividindo o array17 ORIGINAL em duas partes, por SEQUÊNCIA DE LINHAS (np.vsplit):\n",
      "parte 1 do array17 \n",
      " [[110 120 130 140]\n",
      " [150 160 170 180]] \n",
      "\n",
      "parte 2 do array17 \n",
      " [[190 200 210 220]\n",
      " [230 240 250 260]] \n",
      "\n"
     ]
    }
   ],
   "source": [
    "import numpy as np\n",
    "\n",
    "array17 = np.arange(110,270,10).reshape(4,4)\n",
    "\n",
    "print('imprimindo o array17 original:')\n",
    "print(array17, '\\n', 'shape: ', array17.shape, '\\n')\n",
    "\n",
    "print('dividindo o array17 ORIGINAL em duas partes, por SEQUÊNCIA DE COLUNAS (np.hsplit):')\n",
    "[array17_hparte1, array17_hparte2] = np.hsplit(array17, 2)\n",
    "print('parte 1 do array17', '\\n', array17_hparte1, '\\n')\n",
    "print('parte 2 do array17', '\\n', array17_hparte2, '\\n')\n",
    "\n",
    "print('dividindo o array17 ORIGINAL em duas partes, por SEQUÊNCIA DE LINHAS (np.vsplit):')\n",
    "[array17_vparte1, array17_vparte2] = np.vsplit(array17, 2)\n",
    "print('parte 1 do array17', '\\n', array17_vparte1, '\\n')\n",
    "print('parte 2 do array17', '\\n', array17_vparte2, '\\n')"
   ]
  },
  {
   "cell_type": "markdown",
   "metadata": {
    "collapsed": true
   },
   "source": [
    "### Gravando e Carregando Dados em Numpy"
   ]
  },
  {
   "cell_type": "code",
   "execution_count": 17,
   "metadata": {
    "collapsed": false
   },
   "outputs": [
    {
     "name": "stdout",
     "output_type": "stream",
     "text": [
      "salvando os dados de uma matriz em um arquivo externo... \n",
      "\n",
      "carregando os dados de um arquivo externo que contêm uma matriz para uma variável... \n",
      "\n",
      "[[110 120 130 140]\n",
      " [150 160 170 180]\n",
      " [190 200 210 220]\n",
      " [230 240 250 260]]\n"
     ]
    }
   ],
   "source": [
    "import numpy as np\n",
    "\n",
    "dados = np.arange(110,270,10).reshape(4,4)\n",
    "\n",
    "print('salvando os dados de uma matriz em um arquivo externo...', '\\n')\n",
    "np.save('dados_matriz.npy', dados) #npy é a extensão de um record set em numpy\n",
    "\n",
    "print('carregando os dados de um arquivo externo que contêm uma matriz para uma variável...', '\\n')\n",
    "carrega_arquivo = np.load('dados_matriz.npy')\n",
    "\n",
    "print(carrega_arquivo)"
   ]
  },
  {
   "cell_type": "markdown",
   "metadata": {},
   "source": [
    "### Matrizes com Numpy - 2 dimensões\n",
    "### Criando Matrizes"
   ]
  },
  {
   "cell_type": "code",
   "execution_count": 33,
   "metadata": {
    "collapsed": false
   },
   "outputs": [
    {
     "name": "stdout",
     "output_type": "stream",
     "text": [
      " conteúdo da matrix1 \n",
      "\n",
      " [[55 21 32]\n",
      " [99 10  8]] \n",
      " shape: (2, 3) \n",
      " type: <class 'numpy.matrixlib.defmatrix.matrix'> \n",
      "\n",
      " conteúdo da matrix2: \n",
      "\n",
      " [[22 33 11]\n",
      " [44 55 66]\n",
      " [99 88 77]] \n",
      "\n",
      " shape: (3, 3) \n",
      " type: <class 'numpy.matrixlib.defmatrix.matrix'>\n"
     ]
    }
   ],
   "source": [
    "matrix1 = np.matrix(\"55, 21, 32; 99, 10, 8\")\n",
    "print(' conteúdo da matrix1', '\\n\\n', matrix1, '\\n', 'shape:', matrix1.shape, '\\n', 'type:', type(matrix1), '\\n')\n",
    "\n",
    "matrix2 = np.matrix([[22,33,11], [44,55,66], [99,88,77]])\n",
    "print(' conteúdo da matrix2:', '\\n\\n', matrix2, '\\n\\n', 'shape:', matrix2.shape, '\\n', 'type:', type(matrix2))"
   ]
  },
  {
   "cell_type": "markdown",
   "metadata": {},
   "source": [
    "#### Slicing de matrizes"
   ]
  },
  {
   "cell_type": "code",
   "execution_count": 88,
   "metadata": {
    "collapsed": false
   },
   "outputs": [
    {
     "name": "stdout",
     "output_type": "stream",
     "text": [
      " conteúdo da matrix3 \n",
      "\n",
      " [[65 11 45]\n",
      " [49 14 18]\n",
      " [10 20 30]\n",
      " [65 64 64]] \n",
      "\n",
      " shape: (4, 3) \n",
      " type: <class 'numpy.matrixlib.defmatrix.matrix'> \n",
      "\n"
     ]
    },
    {
     "data": {
      "text/plain": [
       "matrix([[14, 18],\n",
       "        [20, 30]])"
      ]
     },
     "execution_count": 88,
     "metadata": {},
     "output_type": "execute_result"
    }
   ],
   "source": [
    "matrix3 = np.matrix(\"65, 11, 45; 49, 14, 18; 10, 20, 30; 65, 64, 64\")\n",
    "print(' conteúdo da matrix3', '\\n\\n', matrix3, '\\n\\n', 'shape:', matrix3.shape, '\\n', 'type:', type(matrix3), '\\n')\n",
    "\n",
    "#print(' slicing :', '\\n', matrix3[1:2])\n",
    "matrix3[1:3,1:]"
   ]
  },
  {
   "cell_type": "markdown",
   "metadata": {},
   "source": [
    "### Matriz Esparsa -> em numpy basicamente é um conj. de arrays interligados, na qual a grande maioria dos seus elementos possui um valor padrão (exemplo: zero) ou são nulos ou faltantes.\n",
    "\n",
    "#### depende da biblioteca scipy.sparse"
   ]
  },
  {
   "cell_type": "code",
   "execution_count": 160,
   "metadata": {
    "collapsed": false
   },
   "outputs": [
    {
     "name": "stdout",
     "output_type": "stream",
     "text": [
      "criando uma MATRIZ ESPARSA representada na diagonal pelos valores = np.array([115, 60, 55, 234] ... \n",
      "\n",
      "shape escolhido: 4 linhas X 4 colunas \n",
      "\n",
      "imprimindo a matriz esparsa (scipy.sparse.MATRIX.toarray())...\n",
      "[[115   0   0   0]\n",
      " [  0  60   0   0]\n",
      " [  0   0  55   0]\n",
      " [  0   0   0 234]] \n",
      "\n",
      " shape \n",
      " (4, 4) \n",
      "\n",
      "  (0, 0)\t115\n",
      "  (1, 1)\t60\n",
      "  (2, 2)\t55\n",
      "  (3, 3)\t234 \n",
      "\n",
      "\n",
      "Verificando se o objeto criado (\"matrix_esparsa1\") é uma matriz esparsa:\n",
      "True\n"
     ]
    }
   ],
   "source": [
    "import numpy as np\n",
    "import scipy.sparse\n",
    "\n",
    "print('criando uma MATRIZ ESPARSA representada na diagonal pelos valores = np.array([115, 60, 55, 234] ...', '\\n')\n",
    "print('shape escolhido: 4 linhas X 4 colunas', '\\n')\n",
    "linhas = np.array([0, 1, 2, 3])\n",
    "colunas = np.array([0, 1, 2, 3])\n",
    "valores = np.array([115, 60, 55, 234])\n",
    "\n",
    "matrix_esparsa1 = scipy.sparse.coo_matrix((valores, (linhas, colunas)))\n",
    "print('imprimindo a matriz esparsa (scipy.sparse.MATRIX.toarray())...')\n",
    "print(matrix_esparsa1.toarray(), '\\n\\n', 'shape', '\\n', matrix_esparsa1.shape, '\\n')\n",
    "print(matrix_esparsa1, '\\n\\n')\n",
    "\n",
    "print('Verificando se o objeto criado (\"matrix_esparsa1\") é uma matriz esparsa:')\n",
    "print(scipy.sparse.isspmatrix(matrix_esparsa1))"
   ]
  },
  {
   "cell_type": "markdown",
   "metadata": {},
   "source": [
    "### Operações com Arrays e Matrizes"
   ]
  },
  {
   "cell_type": "code",
   "execution_count": 208,
   "metadata": {
    "collapsed": false,
    "scrolled": false
   },
   "outputs": [
    {
     "name": "stdout",
     "output_type": "stream",
     "text": [
      "imprimindo o array18 original: \n",
      "\n",
      "[[10  2  3]\n",
      " [ 1  4  2]\n",
      " [10  2  1]] \n",
      "\n",
      " shape: (3, 3) \n",
      " type: <class 'numpy.ndarray'> \n",
      "\n",
      "imprimindo o array19 original: \n",
      "\n",
      "[[2 3 1]\n",
      " [1 5 3]\n",
      " [2 5 4]] \n",
      "\n",
      " shape: (3, 3) \n",
      " type: <class 'numpy.ndarray'> \n",
      "\n",
      "MULTIPLICAÇÃO de ARRAYS: array18 * array19 \n",
      "\n",
      "*---> lembrando que multiplicações entre ARRAYS é proposta elemento por elemento. Ex.: elemento da\n",
      "da linha 1 coluna 1 do array18 vai multiplicar com elemento linha 1 coluna 1 do array19, e assim\n",
      "sucessivamente para todos os elementos. A nova matriz gerada será a multiplicação entre ambas.\n",
      "[[20  6  3]\n",
      " [ 1 20  6]\n",
      " [20 10  4]] \n",
      "\n",
      " type: <class 'numpy.ndarray'> \n",
      "\n",
      "---------------------- \n",
      "\n",
      "gerando uma MATRIZ à partir dos dados do array18\n",
      "Imprimindo matrix4 \n",
      " [[10  2  3]\n",
      " [ 1  4  2]\n",
      " [10  2  1]] \n",
      "\n",
      " shape: (3, 3) \n",
      " type: <class 'numpy.matrixlib.defmatrix.matrix'> \n",
      "\n",
      "\n",
      "gerando uma MATRIZ à partir dos dados do array19\n",
      "Imprimindo matrix5 \n",
      " [[2 3 1]\n",
      " [1 5 3]\n",
      " [2 5 4]] \n",
      "\n",
      " shape: (3, 3) \n",
      " type: <class 'numpy.matrixlib.defmatrix.matrix'> \n",
      "\n",
      "\n",
      "MULTIPLICAÇÃO de MATRIZES: matrix4 * matrix5\n",
      "*---> lembrando que multiplicações entre matrizes são todos os elementos da linha da matriz A[i:j]\n",
      "X todos os elementos da coluna da matriz B[i:j], onde i=linha e j=coluna \n",
      "\n",
      "[[28 55 28]\n",
      " [10 33 21]\n",
      " [24 45 20]] \n",
      "\n",
      " shape: (3, 3) \n",
      "\n",
      " type: <class 'numpy.matrixlib.defmatrix.matrix'> \n",
      "\n"
     ]
    }
   ],
   "source": [
    "import numpy as np\n",
    "\n",
    "array18 = np.array([[10,2,3], [1,4,2], [10,2,1]])\n",
    "print('imprimindo o array18 original:', '\\n')\n",
    "print(array18, '\\n\\n', 'shape:', array18.shape, '\\n', 'type:', type(array18), '\\n')\n",
    "\n",
    "array19 = np.array([[2,3,1], [1,5,3], [2,5,4]])\n",
    "print('imprimindo o array19 original:', '\\n')\n",
    "print(array19, '\\n\\n', 'shape:', array19.shape, '\\n', 'type:', type(array19), '\\n')\n",
    "\n",
    "print('MULTIPLICAÇÃO de ARRAYS: array18 * array19', '\\n')\n",
    "print('*---> lembrando que multiplicações entre ARRAYS é proposta elemento por elemento. Ex.: elemento da')\n",
    "print('da linha 1 coluna 1 do array18 vai multiplicar com elemento linha 1 coluna 1 do array19, e assim')\n",
    "print('sucessivamente para todos os elementos. A nova matriz gerada será a multiplicação entre ambas.')\n",
    "array20 = array18 * array19\n",
    "print(array20, '\\n\\n', 'type:', type(array20), '\\n')\n",
    "\n",
    "print('----------------------', '\\n')\n",
    "\n",
    "print('gerando uma MATRIZ à partir dos dados do array18')\n",
    "matrix4 = np.mat(array18)\n",
    "print('Imprimindo matrix4', '\\n', matrix4, '\\n\\n', 'shape:', matrix4.shape, '\\n', 'type:', type(matrix4), '\\n\\n')\n",
    "\n",
    "print('gerando uma MATRIZ à partir dos dados do array19')\n",
    "matrix5 = np.mat(array19)\n",
    "print('Imprimindo matrix5', '\\n', matrix5, '\\n\\n', 'shape:', matrix5.shape, '\\n', 'type:', type(matrix5), '\\n\\n')\n",
    "\n",
    "print('MULTIPLICAÇÃO de MATRIZES: matrix4 * matrix5')\n",
    "print('*---> lembrando que multiplicações entre matrizes são todos os elementos da linha da matriz A[i:j]')\n",
    "print('X todos os elementos da coluna da matriz B[i:j], onde i=linha e j=coluna', '\\n')\n",
    "matrix6 = matrix4 * matrix5\n",
    "print(matrix6, '\\n\\n', 'shape:', matrix4.shape, '\\n\\n', 'type:', type(matrix6), '\\n')"
   ]
  },
  {
   "cell_type": "code",
   "execution_count": 219,
   "metadata": {
    "collapsed": false
   },
   "outputs": [
    {
     "name": "stdout",
     "output_type": "stream",
     "text": [
      "Caso queira que o ARRAY tenha o mesmo comportamento matemático da MATRIZ, usa-se a função np.dot() do numpy\n",
      "\n",
      "\n",
      "imprimindo o array21 original: \n",
      "\n",
      "[[10  2  3]\n",
      " [ 1  4  2]\n",
      " [10  2  1]] \n",
      "\n",
      " shape: (3, 3) \n",
      " type: <class 'numpy.ndarray'> \n",
      "\n",
      "imprimindo o array22 original: \n",
      "\n",
      "[[2 3 1]\n",
      " [1 5 3]\n",
      " [2 5 4]] \n",
      "\n",
      " shape: (3, 3) \n",
      " type: <class 'numpy.ndarray'> \n",
      "\n",
      "imprimindo uma MULTIPLICAÇÃO entre arrays (array21 * array22), considerando o\n",
      "mesmo comportamento matemático de uma matriz: \n",
      "\n",
      "[[28 55 28]\n",
      " [10 33 21]\n",
      " [24 45 20]] \n",
      "\n",
      " shape: (3, 3) \n",
      " type: <class 'numpy.ndarray'> \n",
      "\n",
      "gerando uma MATRIZ à partir dos dados do array23\n",
      "Imprimindo matrix6 \n",
      " [[28 55 28]\n",
      " [10 33 21]\n",
      " [24 45 20]] \n",
      "\n",
      " shape: (3, 3) \n",
      " type: <class 'numpy.matrixlib.defmatrix.matrix'> \n",
      "\n",
      "\n",
      "convertendo a MATRIZ (matrix6) para um ARRAY:\n",
      "Imprimindo matrix6 \n",
      " [[28 55 28]\n",
      " [10 33 21]\n",
      " [24 45 20]] \n",
      "\n",
      " shape: (3, 3) \n",
      " type: <class 'numpy.ndarray'> \n",
      "\n",
      "\n"
     ]
    }
   ],
   "source": [
    "import numpy as np\n",
    "\n",
    "print('Caso queira que o ARRAY tenha o mesmo comportamento matemático da MATRIZ, usa-se a função np.dot() do numpy')\n",
    "print('\\n')\n",
    "\n",
    "array21 = np.array([[10,2,3], [1,4,2], [10,2,1]])\n",
    "print('imprimindo o array21 original:', '\\n')\n",
    "print(array21, '\\n\\n', 'shape:', array21.shape, '\\n', 'type:', type(array21), '\\n')\n",
    "\n",
    "array22 = np.array([[2,3,1], [1,5,3], [2,5,4]])\n",
    "print('imprimindo o array22 original:', '\\n')\n",
    "print(array22, '\\n\\n', 'shape:', array22.shape, '\\n', 'type:', type(array22), '\\n')\n",
    "\n",
    "print('imprimindo uma MULTIPLICAÇÃO entre arrays (array21 * array22), considerando o')\n",
    "print('mesmo comportamento matemático de uma matriz:', '\\n')\n",
    "array23 = np.dot(array21, array22)\n",
    "print(array23, '\\n\\n', 'shape:', array23.shape, '\\n', 'type:', type(array23), '\\n')\n",
    "\n",
    "print('gerando uma MATRIZ à partir dos dados do array23')\n",
    "matrix6 = np.mat(array23)\n",
    "print('Imprimindo matrix6', '\\n', matrix6, '\\n\\n', 'shape:', matrix6.shape, '\\n', 'type:', type(matrix6), '\\n\\n')\n",
    "\n",
    "print('convertendo a MATRIZ (matrix6) para um ARRAY:')\n",
    "array24 = np.asarray(matrix6)\n",
    "print('Imprimindo matrix6', '\\n', array24, '\\n\\n', 'shape:', array24.shape, '\\n', 'type:', type(array24), '\\n\\n')"
   ]
  },
  {
   "cell_type": "markdown",
   "metadata": {
    "collapsed": true
   },
   "source": [
    "### Vetorização (Numpy) -> ganho de performance ao aplicar uma FUNÇÃO a um conjunto de elementos (similar ao map() e o filter()). Para esses casos, evite usar loop for.\n",
    "\n",
    "### Nesse caso, a função numpy.vetorize vetoriza a DEF (definição de função ao qual recebe parâmetros de entrada), para que essa consiga receber como parâmetro um array de elementos."
   ]
  },
  {
   "cell_type": "code",
   "execution_count": 110,
   "metadata": {
    "collapsed": false
   },
   "outputs": [
    {
     "name": "stdout",
     "output_type": "stream",
     "text": [
      "imprimindo o array25 original: \n",
      "\n",
      "[45 48 46 18 57  3  8 18 16 50 24 56 41  6 45] \n",
      "\n",
      " shape: (15,) \n",
      " type: <class 'numpy.ndarray'> \n",
      "\n"
     ]
    }
   ],
   "source": [
    "import numpy as np\n",
    "\n",
    "array25 = np.random.randint(3,60,15)\n",
    "print('imprimindo o array25 original:', '\\n')\n",
    "print(array25, '\\n\\n', 'shape:', array25.shape, '\\n', 'type:', type(array25), '\\n')\n",
    "\n",
    "def cal_num(numero):\n",
    "    if numero % 2==0:\n",
    "        return (numero/2)\n",
    "    else:\n",
    "        return (numero/3)"
   ]
  },
  {
   "cell_type": "code",
   "execution_count": 111,
   "metadata": {
    "collapsed": false
   },
   "outputs": [
    {
     "name": "stdout",
     "output_type": "stream",
     "text": [
      "passando o array25 à função cal_num definida anteriormente:\n",
      "(espera-se um erro, pois a função espera que seja passado um elemento de cada vez, e não todo o array)\n"
     ]
    },
    {
     "ename": "ValueError",
     "evalue": "The truth value of an array with more than one element is ambiguous. Use a.any() or a.all()",
     "output_type": "error",
     "traceback": [
      "\u001b[0;31m---------------------------------------------------------------------------\u001b[0m",
      "\u001b[0;31mValueError\u001b[0m                                Traceback (most recent call last)",
      "\u001b[0;32m<ipython-input-111-efc5ca4d86e4>\u001b[0m in \u001b[0;36m<module>\u001b[0;34m()\u001b[0m\n\u001b[1;32m      1\u001b[0m \u001b[0mprint\u001b[0m\u001b[1;33m(\u001b[0m\u001b[1;34m'passando o array25 à função cal_num definida anteriormente:'\u001b[0m\u001b[1;33m)\u001b[0m\u001b[1;33m\u001b[0m\u001b[0m\n\u001b[1;32m      2\u001b[0m \u001b[0mprint\u001b[0m\u001b[1;33m(\u001b[0m\u001b[1;34m'(espera-se um erro, pois a função espera que seja passado um elemento de cada vez, e não todo o array)'\u001b[0m\u001b[1;33m)\u001b[0m\u001b[1;33m\u001b[0m\u001b[0m\n\u001b[0;32m----> 3\u001b[0;31m \u001b[0mcal_num\u001b[0m\u001b[1;33m(\u001b[0m\u001b[0marray25\u001b[0m\u001b[1;33m)\u001b[0m\u001b[1;33m\u001b[0m\u001b[0m\n\u001b[0m",
      "\u001b[0;32m<ipython-input-110-f69a56420a4e>\u001b[0m in \u001b[0;36mcal_num\u001b[0;34m(numero)\u001b[0m\n\u001b[1;32m      6\u001b[0m \u001b[1;33m\u001b[0m\u001b[0m\n\u001b[1;32m      7\u001b[0m \u001b[1;32mdef\u001b[0m \u001b[0mcal_num\u001b[0m\u001b[1;33m(\u001b[0m\u001b[0mnumero\u001b[0m\u001b[1;33m)\u001b[0m\u001b[1;33m:\u001b[0m\u001b[1;33m\u001b[0m\u001b[0m\n\u001b[0;32m----> 8\u001b[0;31m     \u001b[1;32mif\u001b[0m \u001b[0mnumero\u001b[0m \u001b[1;33m%\u001b[0m \u001b[1;36m2\u001b[0m\u001b[1;33m==\u001b[0m\u001b[1;36m0\u001b[0m\u001b[1;33m:\u001b[0m\u001b[1;33m\u001b[0m\u001b[0m\n\u001b[0m\u001b[1;32m      9\u001b[0m         \u001b[1;32mreturn\u001b[0m \u001b[1;33m(\u001b[0m\u001b[0mnumero\u001b[0m\u001b[1;33m/\u001b[0m\u001b[1;36m2\u001b[0m\u001b[1;33m)\u001b[0m\u001b[1;33m\u001b[0m\u001b[0m\n\u001b[1;32m     10\u001b[0m     \u001b[1;32melse\u001b[0m\u001b[1;33m:\u001b[0m\u001b[1;33m\u001b[0m\u001b[0m\n",
      "\u001b[0;31mValueError\u001b[0m: The truth value of an array with more than one element is ambiguous. Use a.any() or a.all()"
     ]
    }
   ],
   "source": [
    "print('passando o array25 à função cal_num definida anteriormente:')\n",
    "print('(espera-se um erro, pois a função espera que seja passado um elemento de cada vez, e não todo o array)')\n",
    "cal_num(array25)"
   ]
  },
  {
   "cell_type": "code",
   "execution_count": 120,
   "metadata": {
    "collapsed": false
   },
   "outputs": [
    {
     "name": "stdout",
     "output_type": "stream",
     "text": [
      "vetorizando a função [cal_num] para que um array de elementos possa ser passado como parâmetro...\n",
      "--->>> np.vectorize(função)\n",
      "type do objeto vetorizado: <class 'numpy.lib.function_base.vectorize'>\n",
      "<numpy.lib.function_base.vectorize object at 0x00000000076B2160> \n",
      "\n",
      "imprimindo o array25 original: \n",
      "\n",
      "[45 48 46 18 57  3  8 18 16 50 24 56 41  6 45] \n",
      "\n",
      " shape: (15,) \n",
      " type: <class 'numpy.ndarray'> \n",
      "\n",
      "Aplicando cada um dos elementos do [array25] à FUNÇÃO VETORIZADA [vetorizacao_function1(num)].\n",
      "Após isso, lista dentro de um array gerado os respectivos resultados da aplicação da função em relação aos \n",
      "\n",
      "elementos do array25:\n",
      "[ 15.          24.          23.           9.          19.           1.           4.\n",
      "   9.           8.          25.          12.          28.          13.66666667\n",
      "   3.          15.        ] \n",
      "\n",
      "usando o MAP para fazer a mesma vetorização entre a função ORIGINAL [cal_num] e os elementos do array [array25],\n",
      "jogando o resultado ITERABLE do MAP em uma lista de elementos:\n",
      "[15.0, 24.0, 23.0, 9.0, 19.0, 1.0, 4.0, 9.0, 8.0, 25.0, 12.0, 28.0, 13.666666666666666, 3.0, 15.0] \n",
      "\n",
      "usando LIST COMPREHENSION para fazer a mesma vetorização entre a função ORIGINAL [cal_num] e os elementos\n",
      "do array [array25]:\n",
      "[15.0, 24.0, 23.0, 9.0, 19.0, 1.0, 4.0, 9.0, 8.0, 25.0, 12.0, 28.0, 13.666666666666666, 3.0, 15.0] \n",
      "\n"
     ]
    }
   ],
   "source": [
    "import numpy as np\n",
    "\n",
    "print('vetorizando a função [cal_num] para que um array de elementos possa ser passado como parâmetro...')\n",
    "print('--->>> np.vectorize(função)')\n",
    "vetorizacao_function1 = np.vectorize(cal_num)\n",
    "\n",
    "print('type do objeto vetorizado:', type(vetorizacao_function1))\n",
    "print(vetorizacao_function1, '\\n')\n",
    "\n",
    "print('imprimindo o array25 original:', '\\n')\n",
    "print(array25, '\\n\\n', 'shape:', array25.shape, '\\n', 'type:', type(array25), '\\n')\n",
    "\n",
    "print('Aplicando cada um dos elementos do [array25] à FUNÇÃO VETORIZADA [vetorizacao_function1(num)].')\n",
    "print('Após isso, lista dentro de um array gerado os respectivos resultados da aplicação da função em relação aos', '\\n')\n",
    "print('elementos do array25:')\n",
    "print(vetorizacao_function1(array25), '\\n')\n",
    "\n",
    "print('usando o MAP para fazer a mesma vetorização entre a função ORIGINAL [cal_num] e os elementos do array [array25],')\n",
    "print('jogando o resultado ITERABLE do MAP em uma lista de elementos:')\n",
    "print(list(map(cal_num,array25)), '\\n')\n",
    "\n",
    "print('usando LIST COMPREHENSION para fazer a mesma vetorização entre a função ORIGINAL [cal_num] e os elementos')\n",
    "print('do array [array25]:')\n",
    "print([cal_num(x) for x in array25], '\\n')"
   ]
  },
  {
   "cell_type": "markdown",
   "metadata": {},
   "source": [
    "### Como saber qual das 3 maneiras é a mais performática? %timeit\n",
    "#### - Vetorização com Numpy -> escolher essa solução quando a quantidade de elementos for realmente grande.\n",
    "#### - Função map() -> para quantidade média de elementos em um array. Com breve vantagem sobre list comprehension.\n",
    "#### - List Comprehension [ ] -> para quantidade média de elementos em um array. Apesar disso, na versão Python 3, recebeu melhorias significativas."
   ]
  },
  {
   "cell_type": "code",
   "execution_count": 133,
   "metadata": {
    "collapsed": false
   },
   "outputs": [
    {
     "name": "stdout",
     "output_type": "stream",
     "text": [
      "Qtd. elementos no [array25] =  15 \n",
      "\n",
      "- Vetorização com Numpy - Aplicando a função VETORIZADA [vetorizacao_function1] para o [array25]\n",
      "The slowest run took 6.22 times longer than the fastest. This could mean that an intermediate result is being cached.\n",
      "100000 loops, best of 3: 16.2 µs per loop\n",
      "\n",
      "\n",
      "- Função map() - usando o MAP para fazer a mesma vetorização entre a função ORIGINAL [cal_num] e os elementos\n",
      " do array [array25], jogando o resultado ITERABLE do MAP em uma lista de elementos:\n",
      "100000 loops, best of 3: 8.8 µs per loop\n",
      "\n",
      "\n",
      "- List Comprehension [ ] - usando LIST COMPREHENSION para fazer a mesma vetorização entre a função\n",
      " ORIGINAL [cal_num] e os elementos do array [array25]:\n",
      "100000 loops, best of 3: 9.07 µs per loop\n",
      "\n",
      "\n"
     ]
    }
   ],
   "source": [
    "print('Qtd. elementos no [array25] = ', array25.size, '\\n')\n",
    "\n",
    "print('- Vetorização com Numpy - Aplicando a função VETORIZADA [vetorizacao_function1] para o [array25]')\n",
    "%timeit(vetorizacao_function1(array25))\n",
    "print('\\n')\n",
    "\n",
    "print('- Função map() - usando o MAP para fazer a mesma vetorização entre a função ORIGINAL [cal_num] e os elementos')\n",
    "print(' do array [array25], jogando o resultado ITERABLE do MAP em uma lista de elementos:')\n",
    "%timeit(list(map(cal_num,array25)))\n",
    "print('\\n')\n",
    "\n",
    "print('- List Comprehension [ ] - usando LIST COMPREHENSION para fazer a mesma vetorização entre a função')\n",
    "print(' ORIGINAL [cal_num] e os elementos do array [array25]:')\n",
    "%timeit([cal_num(x) for x in array25])\n",
    "print('\\n')"
   ]
  },
  {
   "cell_type": "code",
   "execution_count": 134,
   "metadata": {
    "collapsed": false
   },
   "outputs": [
    {
     "name": "stdout",
     "output_type": "stream",
     "text": [
      "Verificando performance\n",
      "Considerando um ARRAY [array26] com um NÚMERIO MAIOR DE ELEMENTOS em relação ao array25: \n",
      "\n",
      "Qtd. elementos no [array26] =  50000 \n",
      "\n",
      "- Vetorização com Numpy - Aplicando a função VETORIZADA [vetorizacao_function1] para o [array26]\n",
      "100 loops, best of 3: 13.3 ms per loop\n",
      "\n",
      "\n",
      "- Função map() - usando o MAP para fazer a mesma vetorização entre a função ORIGINAL [cal_num] e os elementos\n",
      " do array [array26], jogando o resultado ITERABLE do MAP em uma lista de elementos:\n",
      "10 loops, best of 3: 28.1 ms per loop\n",
      "\n",
      "\n",
      "- List Comprehension [ ] - usando LIST COMPREHENSION para fazer a mesma vetorização entre a função\n",
      " ORIGINAL [cal_num] e os elementos do array [array26]:\n",
      "10 loops, best of 3: 29.5 ms per loop\n",
      "\n",
      "\n"
     ]
    }
   ],
   "source": [
    "print('Verificando performance')\n",
    "print('Considerando um ARRAY [array26] com um NÚMERIO MAIOR DE ELEMENTOS em relação ao array25:', '\\n')\n",
    "\n",
    "array26 = np.random.randint(10, 500000, 50000)\n",
    "print('Qtd. elementos no [array26] = ', array26.size, '\\n')\n",
    "\n",
    "print('- Vetorização com Numpy - Aplicando a função VETORIZADA [vetorizacao_function1] para o [array26]')\n",
    "%timeit(vetorizacao_function1(array26))\n",
    "print('\\n')\n",
    "\n",
    "print('- Função map() - usando o MAP para fazer a mesma vetorização entre a função ORIGINAL [cal_num] e os elementos')\n",
    "print(' do array [array26], jogando o resultado ITERABLE do MAP em uma lista de elementos:')\n",
    "%timeit(list(map(cal_num,array26)))\n",
    "print('\\n')\n",
    "\n",
    "print('- List Comprehension [ ] - usando LIST COMPREHENSION para fazer a mesma vetorização entre a função')\n",
    "print(' ORIGINAL [cal_num] e os elementos do array [array26]:')\n",
    "%timeit([cal_num(x) for x in array26])\n",
    "print('\\n')"
   ]
  },
  {
   "cell_type": "code",
   "execution_count": 131,
   "metadata": {
    "collapsed": false
   },
   "outputs": [
    {
     "name": "stdout",
     "output_type": "stream",
     "text": [
      "50000\n"
     ]
    }
   ],
   "source": []
  },
  {
   "cell_type": "code",
   "execution_count": null,
   "metadata": {
    "collapsed": true
   },
   "outputs": [],
   "source": []
  },
  {
   "cell_type": "code",
   "execution_count": null,
   "metadata": {
    "collapsed": true
   },
   "outputs": [],
   "source": []
  }
 ],
 "metadata": {
  "kernelspec": {
   "display_name": "Python 3",
   "language": "python",
   "name": "python3"
  },
  "language_info": {
   "codemirror_mode": {
    "name": "ipython",
    "version": 3
   },
   "file_extension": ".py",
   "mimetype": "text/x-python",
   "name": "python",
   "nbconvert_exporter": "python",
   "pygments_lexer": "ipython3",
   "version": "3.6.0"
  }
 },
 "nbformat": 4,
 "nbformat_minor": 2
}
